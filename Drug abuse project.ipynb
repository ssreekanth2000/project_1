{
 "cells": [
  {
   "cell_type": "code",
   "execution_count": 1,
   "metadata": {},
   "outputs": [],
   "source": [
    "%matplotlib inline\n",
    "\n",
    "import pandas as pd\n",
    "import numpy as np\n",
    "\n",
    "import matplotlib.pyplot as plt\n",
    "import seaborn as sns\n",
    "sns.set(style='white')\n",
    "\n",
    "from thinkstats2 import Pmf, Cdf, Hist\n",
    "\n",
    "import thinkstats2\n",
    "import thinkplot"
   ]
  },
  {
   "cell_type": "code",
   "execution_count": 2,
   "metadata": {},
   "outputs": [],
   "source": [
    "def CohenEffectSize(group1, group2):\n",
    "    \"\"\"Computes Cohen's effect size for two groups.\n",
    "    \n",
    "    group1: Series or DataFrame\n",
    "    group2: Series or DataFrame\n",
    "    \n",
    "    returns: float if the arguments are Series;\n",
    "             Series if the arguments are DataFrames\n",
    "    \"\"\"\n",
    "    diff = group1.mean() - group2.mean()\n",
    "\n",
    "    var1 = group1.var()\n",
    "    var2 = group2.var()\n",
    "    n1, n2 = len(group1), len(group2)\n",
    "\n",
    "    pooled_var = (n1 * var1 + n2 * var2) / (n1 + n2)\n",
    "    d = diff / np.sqrt(pooled_var)\n",
    "    return d"
   ]
  },
  {
   "cell_type": "raw",
   "metadata": {},
   "source": [
    "Import dataset"
   ]
  },
  {
   "cell_type": "code",
   "execution_count": 3,
   "metadata": {},
   "outputs": [
    {
     "name": "stderr",
     "output_type": "stream",
     "text": [
      "<string>:2: DtypeWarning: Columns (2502) have mixed types. Specify dtype option on import or set low_memory=False.\n"
     ]
    },
    {
     "name": "stdout",
     "output_type": "stream",
     "text": [
      "CPU times: user 10.7 s, sys: 580 ms, total: 11.3 s\n",
      "Wall time: 11.7 s\n"
     ]
    }
   ],
   "source": [
    "%time drug = pd.read_csv('/home/ssajjala/NSDUH_2017.txt', sep='\\t', header=0)"
   ]
  },
  {
   "cell_type": "code",
   "execution_count": 4,
   "metadata": {},
   "outputs": [
    {
     "data": {
      "text/plain": [
       "(56276, 2668)"
      ]
     },
     "execution_count": 4,
     "metadata": {},
     "output_type": "execute_result"
    }
   ],
   "source": [
    "drug.shape"
   ]
  },
  {
   "cell_type": "code",
   "execution_count": 5,
   "metadata": {},
   "outputs": [
    {
     "name": "stdout",
     "output_type": "stream",
     "text": [
      "CPU times: user 8.57 s, sys: 88 ms, total: 8.66 s\n",
      "Wall time: 8.67 s\n"
     ]
    },
    {
     "data": {
      "text/html": [
       "<div>\n",
       "<style scoped>\n",
       "    .dataframe tbody tr th:only-of-type {\n",
       "        vertical-align: middle;\n",
       "    }\n",
       "\n",
       "    .dataframe tbody tr th {\n",
       "        vertical-align: top;\n",
       "    }\n",
       "\n",
       "    .dataframe thead th {\n",
       "        text-align: right;\n",
       "    }\n",
       "</style>\n",
       "<table border=\"1\" class=\"dataframe\">\n",
       "  <thead>\n",
       "    <tr style=\"text-align: right;\">\n",
       "      <th></th>\n",
       "      <th>QUESTID2</th>\n",
       "      <th>CIGEVER</th>\n",
       "      <th>CIGOFRSM</th>\n",
       "      <th>CIGWILYR</th>\n",
       "      <th>CIGTRY</th>\n",
       "      <th>CIGYFU</th>\n",
       "      <th>CIGMFU</th>\n",
       "      <th>CIGREC</th>\n",
       "      <th>CIG30USE</th>\n",
       "      <th>CG30EST</th>\n",
       "      <th>...</th>\n",
       "      <th>POVERTY3</th>\n",
       "      <th>TOOLONG</th>\n",
       "      <th>TROUBUND</th>\n",
       "      <th>PDEN10</th>\n",
       "      <th>COUTYP4</th>\n",
       "      <th>MAIIN102</th>\n",
       "      <th>AIIND102</th>\n",
       "      <th>ANALWT_C</th>\n",
       "      <th>VESTR</th>\n",
       "      <th>VEREP</th>\n",
       "    </tr>\n",
       "  </thead>\n",
       "  <tbody>\n",
       "    <tr>\n",
       "      <th>count</th>\n",
       "      <td>5.627600e+04</td>\n",
       "      <td>56276.000000</td>\n",
       "      <td>56276.000000</td>\n",
       "      <td>56276.000000</td>\n",
       "      <td>56276.000000</td>\n",
       "      <td>56276.000000</td>\n",
       "      <td>56276.000000</td>\n",
       "      <td>56276.000000</td>\n",
       "      <td>56276.000000</td>\n",
       "      <td>56276.000000</td>\n",
       "      <td>...</td>\n",
       "      <td>55891.000000</td>\n",
       "      <td>56276.000000</td>\n",
       "      <td>56276.000000</td>\n",
       "      <td>56276.000000</td>\n",
       "      <td>56276.000000</td>\n",
       "      <td>56276.000000</td>\n",
       "      <td>56276.000000</td>\n",
       "      <td>56276.000000</td>\n",
       "      <td>56276.000000</td>\n",
       "      <td>56276.000000</td>\n",
       "    </tr>\n",
       "    <tr>\n",
       "      <th>mean</th>\n",
       "      <td>5.440679e+07</td>\n",
       "      <td>1.514802</td>\n",
       "      <td>78.576889</td>\n",
       "      <td>78.590643</td>\n",
       "      <td>523.781452</td>\n",
       "      <td>9819.480329</td>\n",
       "      <td>92.930059</td>\n",
       "      <td>48.179330</td>\n",
       "      <td>78.938180</td>\n",
       "      <td>92.925972</td>\n",
       "      <td>...</td>\n",
       "      <td>2.404681</td>\n",
       "      <td>2.196549</td>\n",
       "      <td>2.219116</td>\n",
       "      <td>1.662627</td>\n",
       "      <td>1.756486</td>\n",
       "      <td>1.982213</td>\n",
       "      <td>1.982142</td>\n",
       "      <td>4835.157707</td>\n",
       "      <td>40025.520328</td>\n",
       "      <td>1.498809</td>\n",
       "    </tr>\n",
       "    <tr>\n",
       "      <th>std</th>\n",
       "      <td>2.559656e+07</td>\n",
       "      <td>0.499785</td>\n",
       "      <td>39.070097</td>\n",
       "      <td>39.050601</td>\n",
       "      <td>487.140097</td>\n",
       "      <td>1169.378109</td>\n",
       "      <td>13.028272</td>\n",
       "      <td>44.135195</td>\n",
       "      <td>27.744209</td>\n",
       "      <td>4.503609</td>\n",
       "      <td>...</td>\n",
       "      <td>0.785161</td>\n",
       "      <td>5.024707</td>\n",
       "      <td>5.021526</td>\n",
       "      <td>0.626196</td>\n",
       "      <td>0.768816</td>\n",
       "      <td>0.132179</td>\n",
       "      <td>0.132438</td>\n",
       "      <td>5829.196327</td>\n",
       "      <td>14.452923</td>\n",
       "      <td>0.500003</td>\n",
       "    </tr>\n",
       "    <tr>\n",
       "      <th>min</th>\n",
       "      <td>1.000602e+07</td>\n",
       "      <td>1.000000</td>\n",
       "      <td>1.000000</td>\n",
       "      <td>1.000000</td>\n",
       "      <td>1.000000</td>\n",
       "      <td>2015.000000</td>\n",
       "      <td>1.000000</td>\n",
       "      <td>1.000000</td>\n",
       "      <td>1.000000</td>\n",
       "      <td>1.000000</td>\n",
       "      <td>...</td>\n",
       "      <td>1.000000</td>\n",
       "      <td>1.000000</td>\n",
       "      <td>1.000000</td>\n",
       "      <td>1.000000</td>\n",
       "      <td>1.000000</td>\n",
       "      <td>1.000000</td>\n",
       "      <td>1.000000</td>\n",
       "      <td>1.038745</td>\n",
       "      <td>40001.000000</td>\n",
       "      <td>1.000000</td>\n",
       "    </tr>\n",
       "    <tr>\n",
       "      <th>25%</th>\n",
       "      <td>3.195035e+07</td>\n",
       "      <td>1.000000</td>\n",
       "      <td>99.000000</td>\n",
       "      <td>99.000000</td>\n",
       "      <td>16.000000</td>\n",
       "      <td>9991.000000</td>\n",
       "      <td>91.000000</td>\n",
       "      <td>3.000000</td>\n",
       "      <td>91.000000</td>\n",
       "      <td>91.000000</td>\n",
       "      <td>...</td>\n",
       "      <td>2.000000</td>\n",
       "      <td>2.000000</td>\n",
       "      <td>2.000000</td>\n",
       "      <td>1.000000</td>\n",
       "      <td>1.000000</td>\n",
       "      <td>2.000000</td>\n",
       "      <td>2.000000</td>\n",
       "      <td>1281.927192</td>\n",
       "      <td>40013.000000</td>\n",
       "      <td>1.000000</td>\n",
       "    </tr>\n",
       "    <tr>\n",
       "      <th>50%</th>\n",
       "      <td>5.430442e+07</td>\n",
       "      <td>2.000000</td>\n",
       "      <td>99.000000</td>\n",
       "      <td>99.000000</td>\n",
       "      <td>991.000000</td>\n",
       "      <td>9991.000000</td>\n",
       "      <td>91.000000</td>\n",
       "      <td>91.000000</td>\n",
       "      <td>91.000000</td>\n",
       "      <td>91.000000</td>\n",
       "      <td>...</td>\n",
       "      <td>3.000000</td>\n",
       "      <td>2.000000</td>\n",
       "      <td>2.000000</td>\n",
       "      <td>2.000000</td>\n",
       "      <td>2.000000</td>\n",
       "      <td>2.000000</td>\n",
       "      <td>2.000000</td>\n",
       "      <td>2828.875079</td>\n",
       "      <td>40025.000000</td>\n",
       "      <td>1.000000</td>\n",
       "    </tr>\n",
       "    <tr>\n",
       "      <th>75%</th>\n",
       "      <td>7.617612e+07</td>\n",
       "      <td>2.000000</td>\n",
       "      <td>99.000000</td>\n",
       "      <td>99.000000</td>\n",
       "      <td>991.000000</td>\n",
       "      <td>9999.000000</td>\n",
       "      <td>99.000000</td>\n",
       "      <td>91.000000</td>\n",
       "      <td>93.000000</td>\n",
       "      <td>93.000000</td>\n",
       "      <td>...</td>\n",
       "      <td>3.000000</td>\n",
       "      <td>2.000000</td>\n",
       "      <td>2.000000</td>\n",
       "      <td>2.000000</td>\n",
       "      <td>2.000000</td>\n",
       "      <td>2.000000</td>\n",
       "      <td>2.000000</td>\n",
       "      <td>6015.664108</td>\n",
       "      <td>40038.000000</td>\n",
       "      <td>2.000000</td>\n",
       "    </tr>\n",
       "    <tr>\n",
       "      <th>max</th>\n",
       "      <td>9.999816e+07</td>\n",
       "      <td>2.000000</td>\n",
       "      <td>99.000000</td>\n",
       "      <td>99.000000</td>\n",
       "      <td>997.000000</td>\n",
       "      <td>9999.000000</td>\n",
       "      <td>99.000000</td>\n",
       "      <td>91.000000</td>\n",
       "      <td>98.000000</td>\n",
       "      <td>99.000000</td>\n",
       "      <td>...</td>\n",
       "      <td>3.000000</td>\n",
       "      <td>98.000000</td>\n",
       "      <td>98.000000</td>\n",
       "      <td>3.000000</td>\n",
       "      <td>3.000000</td>\n",
       "      <td>2.000000</td>\n",
       "      <td>2.000000</td>\n",
       "      <td>90053.310988</td>\n",
       "      <td>40050.000000</td>\n",
       "      <td>2.000000</td>\n",
       "    </tr>\n",
       "  </tbody>\n",
       "</table>\n",
       "<p>8 rows × 2666 columns</p>\n",
       "</div>"
      ],
      "text/plain": [
       "           QUESTID2       CIGEVER      CIGOFRSM      CIGWILYR        CIGTRY  \\\n",
       "count  5.627600e+04  56276.000000  56276.000000  56276.000000  56276.000000   \n",
       "mean   5.440679e+07      1.514802     78.576889     78.590643    523.781452   \n",
       "std    2.559656e+07      0.499785     39.070097     39.050601    487.140097   \n",
       "min    1.000602e+07      1.000000      1.000000      1.000000      1.000000   \n",
       "25%    3.195035e+07      1.000000     99.000000     99.000000     16.000000   \n",
       "50%    5.430442e+07      2.000000     99.000000     99.000000    991.000000   \n",
       "75%    7.617612e+07      2.000000     99.000000     99.000000    991.000000   \n",
       "max    9.999816e+07      2.000000     99.000000     99.000000    997.000000   \n",
       "\n",
       "             CIGYFU        CIGMFU        CIGREC      CIG30USE       CG30EST  \\\n",
       "count  56276.000000  56276.000000  56276.000000  56276.000000  56276.000000   \n",
       "mean    9819.480329     92.930059     48.179330     78.938180     92.925972   \n",
       "std     1169.378109     13.028272     44.135195     27.744209      4.503609   \n",
       "min     2015.000000      1.000000      1.000000      1.000000      1.000000   \n",
       "25%     9991.000000     91.000000      3.000000     91.000000     91.000000   \n",
       "50%     9991.000000     91.000000     91.000000     91.000000     91.000000   \n",
       "75%     9999.000000     99.000000     91.000000     93.000000     93.000000   \n",
       "max     9999.000000     99.000000     91.000000     98.000000     99.000000   \n",
       "\n",
       "           ...           POVERTY3       TOOLONG      TROUBUND        PDEN10  \\\n",
       "count      ...       55891.000000  56276.000000  56276.000000  56276.000000   \n",
       "mean       ...           2.404681      2.196549      2.219116      1.662627   \n",
       "std        ...           0.785161      5.024707      5.021526      0.626196   \n",
       "min        ...           1.000000      1.000000      1.000000      1.000000   \n",
       "25%        ...           2.000000      2.000000      2.000000      1.000000   \n",
       "50%        ...           3.000000      2.000000      2.000000      2.000000   \n",
       "75%        ...           3.000000      2.000000      2.000000      2.000000   \n",
       "max        ...           3.000000     98.000000     98.000000      3.000000   \n",
       "\n",
       "            COUTYP4      MAIIN102      AIIND102      ANALWT_C         VESTR  \\\n",
       "count  56276.000000  56276.000000  56276.000000  56276.000000  56276.000000   \n",
       "mean       1.756486      1.982213      1.982142   4835.157707  40025.520328   \n",
       "std        0.768816      0.132179      0.132438   5829.196327     14.452923   \n",
       "min        1.000000      1.000000      1.000000      1.038745  40001.000000   \n",
       "25%        1.000000      2.000000      2.000000   1281.927192  40013.000000   \n",
       "50%        2.000000      2.000000      2.000000   2828.875079  40025.000000   \n",
       "75%        2.000000      2.000000      2.000000   6015.664108  40038.000000   \n",
       "max        3.000000      2.000000      2.000000  90053.310988  40050.000000   \n",
       "\n",
       "              VEREP  \n",
       "count  56276.000000  \n",
       "mean       1.498809  \n",
       "std        0.500003  \n",
       "min        1.000000  \n",
       "25%        1.000000  \n",
       "50%        1.000000  \n",
       "75%        2.000000  \n",
       "max        2.000000  \n",
       "\n",
       "[8 rows x 2666 columns]"
      ]
     },
     "execution_count": 5,
     "metadata": {},
     "output_type": "execute_result"
    }
   ],
   "source": [
    "%time drug.describe()"
   ]
  },
  {
   "cell_type": "code",
   "execution_count": 6,
   "metadata": {},
   "outputs": [],
   "source": [
    "data_alc=drug.CADRLAST[(drug['CADRLAST'] >= 0) & (drug['CADRLAST'] <= 100)]\n"
   ]
  },
  {
   "cell_type": "code",
   "execution_count": 7,
   "metadata": {},
   "outputs": [
    {
     "data": {
      "image/png": "[encoded data removed]",
      "text/plain": [
       "<Figure size 432x288 with 1 Axes>"
      ]
     },
     "metadata": {
      "needs_background": "light"
     },
     "output_type": "display_data"
    }
   ],
   "source": [
    "hist= thinkstats2.Hist(data_alc)\n",
    "thinkplot.hist(hist)"
   ]
  },
  {
   "cell_type": "code",
   "execution_count": 8,
   "metadata": {},
   "outputs": [
    {
     "data": {
      "image/png": "[encoded data removed]",
      "text/plain": [
       "<Figure size 432x288 with 1 Axes>"
      ]
     },
     "metadata": {
      "needs_background": "light"
     },
     "output_type": "display_data"
    }
   ],
   "source": [
    "data_weed_only=drug.MJAGE[(drug['MJAGE'] >= 0) & (drug['MJAGE'] <= 100)]\n",
    "hist= thinkstats2.Hist(data_weed_only)\n",
    "thinkplot.hist(hist)"
   ]
  },
  {
   "cell_type": "markdown",
   "metadata": {},
   "source": [
    "Exploring the idea of which drugs show most correlation with weed use."
   ]
  },
  {
   "cell_type": "markdown",
   "metadata": {},
   "source": [
    "Coke and weed use"
   ]
  },
  {
   "cell_type": "code",
   "execution_count": 9,
   "metadata": {},
   "outputs": [
    {
     "name": "stdout",
     "output_type": "stream",
     "text": [
      "0.9753891771682728\n",
      "0.2738739488801932\n",
      "24022\n",
      "6745\n",
      "5.927907863705855\n"
     ]
    }
   ],
   "source": [
    "data_coke_weed=drug.COCEVER[(drug['MJAGE'] >= 0) & (drug['MJAGE'] <= 100) & (drug['COCEVER'] == 1)]\n",
    "data_coke_only=drug.COCEVER[(drug['COCEVER'] == 1)]\n",
    "\n",
    "print((len(data_coke_weed)/len(data_coke_only)))#97.5% of coke users have consumed marijunana in the past\n",
    "\n",
    "data_weed_coke=drug.MJAGE[(drug['MJAGE'] >= 0) & (drug['MJAGE'] <= 100) & (drug['COCEVER'] == 1)]\n",
    "print((len(data_weed_coke)/len(data_weed_only)))#Only 27% of weed users have done coke. \n",
    "\n",
    "print(len(data_weed_only))\n",
    "print(len(data_coke_only))\n",
    "print(CohenEffectSize(data_weed_coke,data_coke_only))#Cohen effect size between people who have done coke and those who \n",
    "#did both\n"
   ]
  },
  {
   "cell_type": "markdown",
   "metadata": {},
   "source": [
    "Coke and heroine"
   ]
  },
  {
   "cell_type": "code",
   "execution_count": 10,
   "metadata": {},
   "outputs": [
    {
     "name": "stdout",
     "output_type": "stream",
     "text": [
      "0.9698736637512148\n",
      "0.041545250187328284\n",
      "24022\n",
      "1029\n"
     ]
    }
   ],
   "source": [
    "data_her_weed=drug.HEREVER[(drug['MJAGE'] >= 0) & (drug['MJAGE'] <= 100) & (drug['HEREVER'] == 1)]\n",
    "data_her_only=drug.HEREVER[(drug['HEREVER'] == 1)]\n",
    "\n",
    "print((len(data_her_weed)/len(data_her_only)))#96.7% of Heroine users have consumed marijunana\n",
    "\n",
    "data_weed_her=drug.MJAGE[(drug['MJAGE'] >= 0) & (drug['MJAGE'] <= 100) & (drug['HEREVER'] == 1)]\n",
    "print((len(data_her_weed)/len(data_weed_only)))#4.15% of weed users have consumed heroine\n",
    "\n",
    "print(len(data_weed_only))\n",
    "print(len(data_her_only))"
   ]
  },
  {
   "cell_type": "markdown",
   "metadata": {},
   "source": [
    "Weed and LSD"
   ]
  },
  {
   "cell_type": "code",
   "execution_count": 11,
   "metadata": {},
   "outputs": [
    {
     "name": "stdout",
     "output_type": "stream",
     "text": [
      "0.9816200042744176\n",
      "0.1911997335775539\n",
      "24022\n",
      "4679\n"
     ]
    }
   ],
   "source": [
    "data_lsd_weed=drug.LSD[(drug['MJAGE'] >= 0) & (drug['MJAGE'] <= 100) & (drug['LSD'] == 1)]\n",
    "data_lsd_only=drug.LSD[(drug['LSD'] == 1)]\n",
    "\n",
    "print((len(data_lsd_weed)/len(data_lsd_only)))#98.1% of LSD users have consumed marijunana \n",
    "\n",
    "data_weed_lsd=drug.MJAGE[(drug['MJAGE'] >= 0) & (drug['MJAGE'] <= 100) & (drug['LSD'] == 1)]\n",
    "print((len(data_lsd_weed)/len(data_weed_only)))#4.15% of weed users have consumed LSD \n",
    "\n",
    "print(len(data_weed_only))\n",
    "print(len(data_lsd_only))"
   ]
  },
  {
   "cell_type": "markdown",
   "metadata": {},
   "source": [
    "ALcohol and weed"
   ]
  },
  {
   "cell_type": "code",
   "execution_count": 12,
   "metadata": {},
   "outputs": [
    {
     "name": "stdout",
     "output_type": "stream",
     "text": [
      "0.573419157541679\n",
      "0.9679044209474649\n",
      "24022\n",
      "40548\n"
     ]
    }
   ],
   "source": [
    "data_alc_weed=drug.ALCEVER[(drug['MJAGE'] >= 0) & (drug['MJAGE'] <= 100) & (drug['ALCEVER'] == 1)]\n",
    "data_alc_only=drug.ALCEVER[(drug['ALCEVER'] == 1)]\n",
    "\n",
    "print((len(data_alc_weed)/len(data_alc_only)))#57.3% of alcohol users have consumed weed \n",
    "\n",
    "data_weed_alc=drug.MJAGE[(drug['MJAGE'] >= 0) & (drug['MJAGE'] <= 100) & (drug['ALCEVER'] == 1)]\n",
    "print((len(data_alc_weed)/len(data_weed_only)))#96.1% of weed users have consumed alcohol \n",
    "#Only 27% of weed users have done coke. \n",
    "print(len(data_weed_only))\n",
    "print(len(data_alc_only))"
   ]
  },
  {
   "cell_type": "code",
   "execution_count": 13,
   "metadata": {},
   "outputs": [
    {
     "name": "stdout",
     "output_type": "stream",
     "text": [
      "Age weed users have first tried alcohol 15.662202445241284\n",
      "Age Alcohol users have first tried weed 17.196180930574158\n",
      "Age Alcohol users(who have not done weed) have first tried alcohol 18.27062133365258\n",
      "Age Weed users(who have not done alcohol) have first tried weed 17.149571226375823\n",
      "-0.23296699252090242\n"
     ]
    }
   ],
   "source": [
    "data_alc_weed_age=drug.ALCTRY[(drug['MJEVER'] == 1) & (drug['ALCEVER'] == 1)&(drug['MJAGE'] >= 0) & (drug['MJAGE'] <= 100)&(drug['ALCTRY'] >= 0) & (drug['ALCTRY'] <= 100)]\n",
    "data_weed_alc_age=drug.MJAGE[(drug['ALCEVER'] == 1)& (drug['MJEVER'] == 1)&(drug['MJAGE'] >= 0) & (drug['MJAGE'] <= 100)&(drug['ALCTRY'] >= 0) & (drug['ALCTRY'] <= 100)]\n",
    "data_alc_only_age=drug.ALCTRY[(drug['ALCEVER'] == 1)&(drug['ALCTRY'] >= 0) & (drug['ALCTRY'] <= 100)&(drug['MJEVER'] == 2)]\n",
    "data_weed_only_age=drug.MJAGE[(drug['MJEVER'] == 1)&(drug['MJAGE'] >= 0) & (drug['MJAGE'] <= 100)]\n",
    "print(\"Age weed users have first tried alcohol\" , data_alc_weed_age.mean())\n",
    "\n",
    "print(\"Age Alcohol users have first tried weed\" , data_weed_alc_age.mean())\n",
    "print(\"Age Alcohol users(who have not done weed) have first tried alcohol\", data_alc_only_age.mean())\n",
    "print(\"Age Weed users(who have not done alcohol) have first tried weed\" ,data_weed_only_age.mean())\n",
    "\n",
    "print(CohenEffectSize(data_weed_alc_age,data_alc_only_age))#Cohen effect size between people who have done only alc and those who \n",
    "#did both\n",
    "\n",
    "\n",
    "\n"
   ]
  },
  {
   "cell_type": "code",
   "execution_count": 14,
   "metadata": {},
   "outputs": [
    {
     "data": {
      "image/png": "[encoded data removed]",
      "text/plain": [
       "<Figure size 432x288 with 1 Axes>"
      ]
     },
     "metadata": {
      "needs_background": "light"
     },
     "output_type": "display_data"
    }
   ],
   "source": [
    "hist_weed=thinkstats2.Hist(data_weed_only_age)\n",
    "thinkplot.hist(hist_weed)\n"
   ]
  },
  {
   "cell_type": "code",
   "execution_count": 15,
   "metadata": {},
   "outputs": [
    {
     "data": {
      "image/png": "[encoded data removed]",
      "text/plain": [
       "<Figure size 432x288 with 1 Axes>"
      ]
     },
     "metadata": {
      "needs_background": "light"
     },
     "output_type": "display_data"
    }
   ],
   "source": [
    "hist_alc=thinkstats2.Hist(data_alc_only_age)\n",
    "thinkplot.hist(hist_alc)"
   ]
  },
  {
   "cell_type": "code",
   "execution_count": 16,
   "metadata": {},
   "outputs": [
    {
     "data": {
      "image/png": "[encoded data removed]",
      "text/plain": [
       "<Figure size 432x288 with 1 Axes>"
      ]
     },
     "metadata": {
      "needs_background": "light"
     },
     "output_type": "display_data"
    }
   ],
   "source": [
    "hist_weed_alc=thinkstats2.Hist(data_weed_alc_age)\n",
    "thinkplot.hist(hist_weed_alc)"
   ]
  },
  {
   "cell_type": "code",
   "execution_count": 27,
   "metadata": {},
   "outputs": [
    {
     "data": {
      "text/plain": [
       "[<matplotlib.lines.Line2D at 0x7f0b3c02f828>]"
      ]
     },
     "execution_count": 27,
     "metadata": {},
     "output_type": "execute_result"
    },
    {
     "data": {
      "image/png": "[encoded data removed]",
      "text/plain": [
       "<Figure size 432x288 with 1 Axes>"
      ]
     },
     "metadata": {
      "needs_background": "light"
     },
     "output_type": "display_data"
    }
   ],
   "source": [
    "import matplotlib.pyplot as plt\n",
    "\n",
    "\n",
    "plt.plot(data_weed_alc_age, data_alc_weed_age, 'o', markersize='2', alpha=0.2)\n",
    "\n",
    "plt.xlabel('Age of first weed use')\n",
    "plt.ylabel('Age of first alcohol use');\n",
    "\n",
    "xs = data_weed_alc_age.dropna()\n",
    "ys = data_alc_weed_age.dropna()\n",
    "\n",
    "res = linregress(xs, ys)\n",
    "res\n",
    "fx = np.array([xs.min(), xs.max()])\n",
    "fy = res.intercept + res.slope * fx\n",
    "plt.plot(fx, fy, '-', alpha=0.5)\n"
   ]
  },
  {
   "cell_type": "code",
   "execution_count": 18,
   "metadata": {},
   "outputs": [
    {
     "name": "stdout",
     "output_type": "stream",
     "text": [
      "Age weed users have first tried coke 20.680366692131397\n",
      "Age coke users have first tried weed 15.70252100840336\n",
      "Age coke users(who have not done weed) have first tried coke 22.511111111111113\n",
      "Age Weed users(who have not done coke) have first tried weed 17.149571226375823\n",
      "-1.8606811418224223\n"
     ]
    }
   ],
   "source": [
    "data_coc_weed_age=drug.COCAGE[(drug['MJEVER'] == 1) & (drug['COCEVER'] == 1)&(drug['MJAGE'] >= 0) & (drug['MJAGE'] <= 100)&(drug['COCAGE'] >= 0) & (drug['COCAGE'] <= 60)]\n",
    "data_weed_coc_age=drug.MJAGE[(drug['COCEVER'] == 1)& (drug['MJEVER'] == 1)&(drug['MJAGE'] >= 0) & (drug['MJAGE'] <= 100)&(drug['COCAGE'] >= 0) & (drug['COCAGE'] <= 60)]\n",
    "data_coc_only_age=drug.COCAGE[(drug['COCEVER'] == 1)&(drug['COCAGE'] >= 0) & (drug['COCAGE'] <= 100)&(drug['MJEVER'] == 2)]\n",
    "data_weed_only_age=drug.MJAGE[(drug['MJEVER'] == 1)&(drug['MJAGE'] >= 0) & (drug['MJAGE'] <= 100)]\n",
    "print(\"Age weed users have first tried coke\" , data_coc_weed_age.mean())\n",
    "\n",
    "print(\"Age coke users have first tried weed\" , data_weed_coc_age.mean())\n",
    "print(\"Age coke users(who have not done weed) have first tried coke\", data_coc_only_age.mean())\n",
    "print(\"Age Weed users(who have not done coke) have first tried weed\" ,data_weed_only_age.mean())\n",
    "print(CohenEffectSize(data_weed_coc_age,data_coc_only_age))#Cohen effect size between people who have done only coc and those who \n",
    "#did both"
   ]
  },
  {
   "cell_type": "code",
   "execution_count": 21,
   "metadata": {},
   "outputs": [
    {
     "data": {
      "text/plain": [
       "[<matplotlib.lines.Line2D at 0x7f0b3b876278>]"
      ]
     },
     "execution_count": 21,
     "metadata": {},
     "output_type": "execute_result"
    },
    {
     "data": {
      "image/png": "[encoded data removed]",
      "text/plain": [
       "<Figure size 432x288 with 1 Axes>"
      ]
     },
     "metadata": {
      "needs_background": "light"
     },
     "output_type": "display_data"
    }
   ],
   "source": [
    "import matplotlib.pyplot as plt\n",
    "\n",
    "\n",
    "plt.plot(data_weed_coc_age, data_coc_weed_age, 'o', markersize='2', alpha=0.2)\n",
    "\n",
    "plt.xlabel('Age of first weed use')\n",
    "plt.ylabel('Age of first Cocaine use');\n",
    "\n",
    "from scipy.stats import linregress\n",
    "\n",
    "\n",
    "xs = data_weed_coc_age.dropna()\n",
    "ys = data_coc_weed_age.dropna()\n",
    "\n",
    "res = linregress(xs, ys)\n",
    "res\n",
    "fx = np.array([xs.min(), xs.max()])\n",
    "fy = res.intercept + res.slope * fx\n",
    "plt.plot(fx, fy, '-', alpha=0.5)"
   ]
  },
  {
   "cell_type": "code",
   "execution_count": 22,
   "metadata": {},
   "outputs": [
    {
     "name": "stdout",
     "output_type": "stream",
     "text": [
      "Age weed users have first tried heroine 22.69838056680162\n",
      "Age heroine users have first tried weed 14.246963562753036\n",
      "Age heroine users(who have not done weed) have first tried heroine 24.14814814814815\n",
      "Age Weed users(who have not done heroine) have first tried weed 17.149571226375823\n",
      "-2.638993179873541\n"
     ]
    }
   ],
   "source": [
    "data_her_weed_age=drug.HERAGE[(drug['MJEVER'] == 1) & (drug['HEREVER'] == 1)&(drug['MJAGE'] >= 0) & (drug['MJAGE'] <= 100)&(drug['HERAGE'] >= 0) & (drug['HERAGE'] <= 60)]\n",
    "data_weed_her_age=drug.MJAGE[(drug['HEREVER'] == 1)& (drug['MJEVER'] == 1)&(drug['MJAGE'] >= 0) & (drug['MJAGE'] <= 100)&(drug['HERAGE'] >= 0) & (drug['HERAGE'] <= 60)]\n",
    "data_her_only_age=drug.HERAGE[(drug['HEREVER'] == 1)&(drug['HERAGE'] >= 0) & (drug['HERAGE'] <= 100)&(drug['MJEVER'] == 2)]\n",
    "data_weed_only_age=drug.MJAGE[(drug['MJEVER'] == 1)&(drug['MJAGE'] >= 0) & (drug['MJAGE'] <= 100)]\n",
    "print(\"Age weed users have first tried heroine\" , data_her_weed_age.mean())\n",
    "\n",
    "print(\"Age heroine users have first tried weed\" , data_weed_her_age.mean())\n",
    "print(\"Age heroine users(who have not done weed) have first tried heroine\", data_her_only_age.mean())\n",
    "print(\"Age Weed users(who have not done heroine) have first tried weed\" ,data_weed_only_age.mean())\n",
    "print(CohenEffectSize(data_weed_her_age,data_her_only_age))#Cohen effect size between people who have done only heroine and those who \n",
    "#did both"
   ]
  },
  {
   "cell_type": "code",
   "execution_count": 26,
   "metadata": {},
   "outputs": [
    {
     "data": {
      "text/plain": [
       "[<matplotlib.lines.Line2D at 0x7f0b3c548cf8>]"
      ]
     },
     "execution_count": 26,
     "metadata": {},
     "output_type": "execute_result"
    },
    {
     "data": {
      "image/png": "[encoded data removed]",
      "text/plain": [
       "<Figure size 432x288 with 1 Axes>"
      ]
     },
     "metadata": {
      "needs_background": "light"
     },
     "output_type": "display_data"
    }
   ],
   "source": [
    "import matplotlib.pyplot as plt\n",
    "\n",
    "\n",
    "plt.plot(data_weed_her_age, data_her_weed_age, 'o', markersize='2', alpha=0.2)\n",
    "\n",
    "plt.xlabel('Age of first weed use')\n",
    "plt.ylabel('Age of first Heroine use');\n",
    "\n",
    "xs = data_weed_her_age.dropna()\n",
    "ys = data_her_weed_age.dropna()\n",
    "\n",
    "res = linregress(xs, ys)\n",
    "res\n",
    "fx = np.array([xs.min(), xs.max()])\n",
    "fy = res.intercept + res.slope * fx\n",
    "plt.plot(fx, fy, '-', alpha=0.5)"
   ]
  },
  {
   "cell_type": "code",
   "execution_count": 24,
   "metadata": {},
   "outputs": [],
   "source": [
    "data_alc_age=drug.ALCTRY[(drug['ALCEVER'] == 1)&(drug['ALCTRY'] >= 0) & (drug['ALCTRY'] <= 100)]\n",
    "data_weed_age=drug.MJAGE[(drug['MJEVER'] == 1)&(drug['MJAGE'] >= 0) & (drug['MJAGE'] <=100)]\n",
    "data_her_age=drug.HERAGE[(drug['HEREVER'] == 1)&(drug['HERAGE'] >= 0) & (drug['HERAGE'] <= 100)]\n",
    "data_coc_age=drug.COCAGE[(drug['COCEVER'] == 1)&(drug['COCAGE'] >= 0) & (drug['COCAGE'] <= 100)]"
   ]
  },
  {
   "cell_type": "code",
   "execution_count": 25,
   "metadata": {},
   "outputs": [
    {
     "data": {
      "text/plain": [
       "{'xscale': 'linear', 'yscale': 'linear'}"
      ]
     },
     "execution_count": 25,
     "metadata": {},
     "output_type": "execute_result"
    },
    {
     "data": {
      "image/png": "[encoded data removed]",
      "text/plain": [
       "<Figure size 432x288 with 1 Axes>"
      ]
     },
     "metadata": {
      "needs_background": "light"
     },
     "output_type": "display_data"
    }
   ],
   "source": [
    "cdf_alc = Cdf(data_alc_age)\n",
    "cdf_weed = Cdf(data_weed_age)\n",
    "cdf_her = Cdf(data_her_age)\n",
    "cdf_coke = Cdf(data_coc_age)\n",
    "\n",
    "thinkplot.cdf(cdf_alc, label='alc')\n",
    "thinkplot.cdf(cdf_weed, label='weed')\n",
    "thinkplot.cdf(cdf_her, label='her')\n",
    "thinkplot.cdf(cdf_coke)\n",
    "#CDFs indicaging ages at which various drugs are tried."
   ]
  },
  {
   "cell_type": "code",
   "execution_count": null,
   "metadata": {},
   "outputs": [],
   "source": []
  },
  {
   "cell_type": "code",
   "execution_count": null,
   "metadata": {},
   "outputs": [],
   "source": []
  },
  {
   "cell_type": "code",
   "execution_count": null,
   "metadata": {},
   "outputs": [],
   "source": []
  },
  {
   "cell_type": "code",
   "execution_count": null,
   "metadata": {},
   "outputs": [],
   "source": []
  },
  {
   "cell_type": "code",
   "execution_count": null,
   "metadata": {},
   "outputs": [],
   "source": []
  },
  {
   "cell_type": "code",
   "execution_count": null,
   "metadata": {},
   "outputs": [],
   "source": []
  }
 ],
 "metadata": {
  "kernelspec": {
   "display_name": "Python 3",
   "language": "python",
   "name": "python3"
  },
  "language_info": {
   "codemirror_mode": {
    "name": "ipython",
    "version": 3
   },
   "file_extension": ".py",
   "mimetype": "text/x-python",
   "name": "python",
   "nbconvert_exporter": "python",
   "pygments_lexer": "ipython3",
   "version": "3.7.1"
  }
 },
 "nbformat": 4,
 "nbformat_minor": 2
}
