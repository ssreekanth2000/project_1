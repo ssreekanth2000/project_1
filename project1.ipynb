# **Drug use patterns and correlations** 
**Sreekanth Reddy Sajjala **

[MIT license](https://opensource.org/licenses/MIT)

{
 "cells": [
  {
   "cell_type": "markdown",
   "metadata": {},
   "source": [
    "One of the things that seemed interesting to me in the war on drugs debate is the details of usage of various drugs and how they might correlate with those of other drugs and in particular those of cannabis, as legalization is a hotly debated political issue. In this article we shall use data points and visualizations to gain insight into these patterns."
   ]
  },
  {
   "cell_type": "markdown",
   "metadata": {},
   "source": [
    "We are using the National Survey on Drug Use and Health dataset for this project. It has over 55,000 responses spanning across 2500 parameters. It is representative of the general population for most substances. I have mainly explored 2 questions in this analytical project. The first is observing the various usage statistics of 4 different substances, cannabis, alcohol, cocaine and heroine. In the second part we shall look at how the usage of various drugs correlates with that of cannabis and try to visualize some of the relationships. There is no concrete answer we are looking for but we can observe many interesting datapoints."
   ]
  },
  {
   "cell_type": "markdown",
   "metadata": {},
   "source": [
    "Importing the various packages required."
   ]
  },
  {
   "cell_type": "code",
   "execution_count": 1,
   "metadata": {},
   "outputs": [],
   "source": [
    "%matplotlib inline\n",
    "\n",
    "import pandas as pd\n",
    "import numpy as np\n",
    "\n",
    "import matplotlib.pyplot as plt\n",
    "import seaborn as sns\n",
    "sns.set(style='white')\n",
    "\n",
    "from thinkstats2 import Pmf, Cdf, Hist\n",
    "\n",
    "import thinkstats2\n",
    "import thinkplot\n",
    "from scipy.stats import linregress"
   ]
  },
  {
   "cell_type": "code",
   "execution_count": 2,
   "metadata": {},
   "outputs": [],
   "source": [
    "def CohenEffectSize(group1, group2):\n",
    "    \"\"\"Computes Cohen's effect size for two groups.\n",
    "    \n",
    "    group1: Series or DataFrame\n",
    "    group2: Series or DataFrame\n",
    "    \n",
    "    returns: float if the arguments are Series;\n",
    "             Series if the arguments are DataFrames\n",
    "    \"\"\"\n",
    "    diff = group1.mean() - group2.mean()\n",
    "\n",
    "    var1 = group1.var()\n",
    "    var2 = group2.var()\n",
    "    n1, n2 = len(group1), len(group2)\n",
    "\n",
    "    pooled_var = (n1 * var1 + n2 * var2) / (n1 + n2)\n",
    "    d = diff / np.sqrt(pooled_var)\n",
    "    return d"
   ]
  },
  {
   "cell_type": "markdown",
   "metadata": {},
   "source": [
    "Import dataset"
   ]
  },
  {
   "cell_type": "code",
   "execution_count": 3,
   "metadata": {},
   "outputs": [
    {
     "name": "stderr",
     "output_type": "stream",
     "text": [
      "<string>:2: DtypeWarning: Columns (2502) have mixed types. Specify dtype option on import or set low_memory=False.\n"
     ]
    },
    {
     "name": "stdout",
     "output_type": "stream",
     "text": [
      "CPU times: user 10.5 s, sys: 576 ms, total: 11.1 s\n",
      "Wall time: 11.5 s\n"
     ]
    }
   ],
   "source": [
    "%time drug = pd.read_csv('/home/ssajjala/NSDUH_2017.txt', sep='\\t', header=0)"
   ]
  },
  {
   "cell_type": "code",
   "execution_count": 4,
   "metadata": {},
   "outputs": [
    {
     "data": {
      "text/plain": [
       "(56276, 2668)"
      ]
     },
     "execution_count": 4,
     "metadata": {},
     "output_type": "execute_result"
    }
   ],
   "source": [
    "drug.shape"
   ]
  },
  {
   "cell_type": "markdown",
   "metadata": {},
   "source": [
    "Look at the dataset in more detail"
   ]
  },
  {
   "cell_type": "code",
   "execution_count": 5,
   "metadata": {},
   "outputs": [
    {
     "name": "stdout",
     "output_type": "stream",
     "text": [
      "CPU times: user 7.69 s, sys: 92 ms, total: 7.78 s\n",
      "Wall time: 7.79 s\n"
     ]
    },
    {
     "data": {
      "text/html": [
       "<div>\n",
       "<style scoped>\n",
       "    .dataframe tbody tr th:only-of-type {\n",
       "        vertical-align: middle;\n",
       "    }\n",
       "\n",
       "    .dataframe tbody tr th {\n",
       "        vertical-align: top;\n",
       "    }\n",
       "\n",
       "    .dataframe thead th {\n",
       "        text-align: right;\n",
       "    }\n",
       "</style>\n",
       "<table border=\"1\" class=\"dataframe\">\n",
       "  <thead>\n",
       "    <tr style=\"text-align: right;\">\n",
       "      <th></th>\n",
       "      <th>QUESTID2</th>\n",
       "      <th>CIGEVER</th>\n",
       "      <th>CIGOFRSM</th>\n",
       "      <th>CIGWILYR</th>\n",
       "      <th>CIGTRY</th>\n",
       "      <th>CIGYFU</th>\n",
       "      <th>CIGMFU</th>\n",
       "      <th>CIGREC</th>\n",
       "      <th>CIG30USE</th>\n",
       "      <th>CG30EST</th>\n",
       "      <th>...</th>\n",
       "      <th>POVERTY3</th>\n",
       "      <th>TOOLONG</th>\n",
       "      <th>TROUBUND</th>\n",
       "      <th>PDEN10</th>\n",
       "      <th>COUTYP4</th>\n",
       "      <th>MAIIN102</th>\n",
       "      <th>AIIND102</th>\n",
       "      <th>ANALWT_C</th>\n",
       "      <th>VESTR</th>\n",
       "      <th>VEREP</th>\n",
       "    </tr>\n",
       "  </thead>\n",
       "  <tbody>\n",
       "    <tr>\n",
       "      <th>count</th>\n",
       "      <td>5.627600e+04</td>\n",
       "      <td>56276.000000</td>\n",
       "      <td>56276.000000</td>\n",
       "      <td>56276.000000</td>\n",
       "      <td>56276.000000</td>\n",
       "      <td>56276.000000</td>\n",
       "      <td>56276.000000</td>\n",
       "      <td>56276.000000</td>\n",
       "      <td>56276.000000</td>\n",
       "      <td>56276.000000</td>\n",
       "      <td>...</td>\n",
       "      <td>55891.000000</td>\n",
       "      <td>56276.000000</td>\n",
       "      <td>56276.000000</td>\n",
       "      <td>56276.000000</td>\n",
       "      <td>56276.000000</td>\n",
       "      <td>56276.000000</td>\n",
       "      <td>56276.000000</td>\n",
       "      <td>56276.000000</td>\n",
       "      <td>56276.000000</td>\n",
       "      <td>56276.000000</td>\n",
       "    </tr>\n",
       "    <tr>\n",
       "      <th>mean</th>\n",
       "      <td>5.440679e+07</td>\n",
       "      <td>1.514802</td>\n",
       "      <td>78.576889</td>\n",
       "      <td>78.590643</td>\n",
       "      <td>523.781452</td>\n",
       "      <td>9819.480329</td>\n",
       "      <td>92.930059</td>\n",
       "      <td>48.179330</td>\n",
       "      <td>78.938180</td>\n",
       "      <td>92.925972</td>\n",
       "      <td>...</td>\n",
       "      <td>2.404681</td>\n",
       "      <td>2.196549</td>\n",
       "      <td>2.219116</td>\n",
       "      <td>1.662627</td>\n",
       "      <td>1.756486</td>\n",
       "      <td>1.982213</td>\n",
       "      <td>1.982142</td>\n",
       "      <td>4835.157707</td>\n",
       "      <td>40025.520328</td>\n",
       "      <td>1.498809</td>\n",
       "    </tr>\n",
       "    <tr>\n",
       "      <th>std</th>\n",
       "      <td>2.559656e+07</td>\n",
       "      <td>0.499785</td>\n",
       "      <td>39.070097</td>\n",
       "      <td>39.050601</td>\n",
       "      <td>487.140097</td>\n",
       "      <td>1169.378109</td>\n",
       "      <td>13.028272</td>\n",
       "      <td>44.135195</td>\n",
       "      <td>27.744209</td>\n",
       "      <td>4.503609</td>\n",
       "      <td>...</td>\n",
       "      <td>0.785161</td>\n",
       "      <td>5.024707</td>\n",
       "      <td>5.021526</td>\n",
       "      <td>0.626196</td>\n",
       "      <td>0.768816</td>\n",
       "      <td>0.132179</td>\n",
       "      <td>0.132438</td>\n",
       "      <td>5829.196327</td>\n",
       "      <td>14.452923</td>\n",
       "      <td>0.500003</td>\n",
       "    </tr>\n",
       "    <tr>\n",
       "      <th>min</th>\n",
       "      <td>1.000602e+07</td>\n",
       "      <td>1.000000</td>\n",
       "      <td>1.000000</td>\n",
       "      <td>1.000000</td>\n",
       "      <td>1.000000</td>\n",
       "      <td>2015.000000</td>\n",
       "      <td>1.000000</td>\n",
       "      <td>1.000000</td>\n",
       "      <td>1.000000</td>\n",
       "      <td>1.000000</td>\n",
       "      <td>...</td>\n",
       "      <td>1.000000</td>\n",
       "      <td>1.000000</td>\n",
       "      <td>1.000000</td>\n",
       "      <td>1.000000</td>\n",
       "      <td>1.000000</td>\n",
       "      <td>1.000000</td>\n",
       "      <td>1.000000</td>\n",
       "      <td>1.038745</td>\n",
       "      <td>40001.000000</td>\n",
       "      <td>1.000000</td>\n",
       "    </tr>\n",
       "    <tr>\n",
       "      <th>25%</th>\n",
       "      <td>3.195035e+07</td>\n",
       "      <td>1.000000</td>\n",
       "      <td>99.000000</td>\n",
       "      <td>99.000000</td>\n",
       "      <td>16.000000</td>\n",
       "      <td>9991.000000</td>\n",
       "      <td>91.000000</td>\n",
       "      <td>3.000000</td>\n",
       "      <td>91.000000</td>\n",
       "      <td>91.000000</td>\n",
       "      <td>...</td>\n",
       "      <td>2.000000</td>\n",
       "      <td>2.000000</td>\n",
       "      <td>2.000000</td>\n",
       "      <td>1.000000</td>\n",
       "      <td>1.000000</td>\n",
       "      <td>2.000000</td>\n",
       "      <td>2.000000</td>\n",
       "      <td>1281.927192</td>\n",
       "      <td>40013.000000</td>\n",
       "      <td>1.000000</td>\n",
       "    </tr>\n",
       "    <tr>\n",
       "      <th>50%</th>\n",
       "      <td>5.430442e+07</td>\n",
       "      <td>2.000000</td>\n",
       "      <td>99.000000</td>\n",
       "      <td>99.000000</td>\n",
       "      <td>991.000000</td>\n",
       "      <td>9991.000000</td>\n",
       "      <td>91.000000</td>\n",
       "      <td>91.000000</td>\n",
       "      <td>91.000000</td>\n",
       "      <td>91.000000</td>\n",
       "      <td>...</td>\n",
       "      <td>3.000000</td>\n",
       "      <td>2.000000</td>\n",
       "      <td>2.000000</td>\n",
       "      <td>2.000000</td>\n",
       "      <td>2.000000</td>\n",
       "      <td>2.000000</td>\n",
       "      <td>2.000000</td>\n",
       "      <td>2828.875079</td>\n",
       "      <td>40025.000000</td>\n",
       "      <td>1.000000</td>\n",
       "    </tr>\n",
       "    <tr>\n",
       "      <th>75%</th>\n",
       "      <td>7.617612e+07</td>\n",
       "      <td>2.000000</td>\n",
       "      <td>99.000000</td>\n",
       "      <td>99.000000</td>\n",
       "      <td>991.000000</td>\n",
       "      <td>9999.000000</td>\n",
       "      <td>99.000000</td>\n",
       "      <td>91.000000</td>\n",
       "      <td>93.000000</td>\n",
       "      <td>93.000000</td>\n",
       "      <td>...</td>\n",
       "      <td>3.000000</td>\n",
       "      <td>2.000000</td>\n",
       "      <td>2.000000</td>\n",
       "      <td>2.000000</td>\n",
       "      <td>2.000000</td>\n",
       "      <td>2.000000</td>\n",
       "      <td>2.000000</td>\n",
       "      <td>6015.664108</td>\n",
       "      <td>40038.000000</td>\n",
       "      <td>2.000000</td>\n",
       "    </tr>\n",
       "    <tr>\n",
       "      <th>max</th>\n",
       "      <td>9.999816e+07</td>\n",
       "      <td>2.000000</td>\n",
       "      <td>99.000000</td>\n",
       "      <td>99.000000</td>\n",
       "      <td>997.000000</td>\n",
       "      <td>9999.000000</td>\n",
       "      <td>99.000000</td>\n",
       "      <td>91.000000</td>\n",
       "      <td>98.000000</td>\n",
       "      <td>99.000000</td>\n",
       "      <td>...</td>\n",
       "      <td>3.000000</td>\n",
       "      <td>98.000000</td>\n",
       "      <td>98.000000</td>\n",
       "      <td>3.000000</td>\n",
       "      <td>3.000000</td>\n",
       "      <td>2.000000</td>\n",
       "      <td>2.000000</td>\n",
       "      <td>90053.310988</td>\n",
       "      <td>40050.000000</td>\n",
       "      <td>2.000000</td>\n",
       "    </tr>\n",
       "  </tbody>\n",
       "</table>\n",
       "<p>8 rows × 2666 columns</p>\n",
       "</div>"
      ],
      "text/plain": [
       "           QUESTID2       CIGEVER      CIGOFRSM      CIGWILYR        CIGTRY  \\\n",
       "count  5.627600e+04  56276.000000  56276.000000  56276.000000  56276.000000   \n",
       "mean   5.440679e+07      1.514802     78.576889     78.590643    523.781452   \n",
       "std    2.559656e+07      0.499785     39.070097     39.050601    487.140097   \n",
       "min    1.000602e+07      1.000000      1.000000      1.000000      1.000000   \n",
       "25%    3.195035e+07      1.000000     99.000000     99.000000     16.000000   \n",
       "50%    5.430442e+07      2.000000     99.000000     99.000000    991.000000   \n",
       "75%    7.617612e+07      2.000000     99.000000     99.000000    991.000000   \n",
       "max    9.999816e+07      2.000000     99.000000     99.000000    997.000000   \n",
       "\n",
       "             CIGYFU        CIGMFU        CIGREC      CIG30USE       CG30EST  \\\n",
       "count  56276.000000  56276.000000  56276.000000  56276.000000  56276.000000   \n",
       "mean    9819.480329     92.930059     48.179330     78.938180     92.925972   \n",
       "std     1169.378109     13.028272     44.135195     27.744209      4.503609   \n",
       "min     2015.000000      1.000000      1.000000      1.000000      1.000000   \n",
       "25%     9991.000000     91.000000      3.000000     91.000000     91.000000   \n",
       "50%     9991.000000     91.000000     91.000000     91.000000     91.000000   \n",
       "75%     9999.000000     99.000000     91.000000     93.000000     93.000000   \n",
       "max     9999.000000     99.000000     91.000000     98.000000     99.000000   \n",
       "\n",
       "           ...           POVERTY3       TOOLONG      TROUBUND        PDEN10  \\\n",
       "count      ...       55891.000000  56276.000000  56276.000000  56276.000000   \n",
       "mean       ...           2.404681      2.196549      2.219116      1.662627   \n",
       "std        ...           0.785161      5.024707      5.021526      0.626196   \n",
       "min        ...           1.000000      1.000000      1.000000      1.000000   \n",
       "25%        ...           2.000000      2.000000      2.000000      1.000000   \n",
       "50%        ...           3.000000      2.000000      2.000000      2.000000   \n",
       "75%        ...           3.000000      2.000000      2.000000      2.000000   \n",
       "max        ...           3.000000     98.000000     98.000000      3.000000   \n",
       "\n",
       "            COUTYP4      MAIIN102      AIIND102      ANALWT_C         VESTR  \\\n",
       "count  56276.000000  56276.000000  56276.000000  56276.000000  56276.000000   \n",
       "mean       1.756486      1.982213      1.982142   4835.157707  40025.520328   \n",
       "std        0.768816      0.132179      0.132438   5829.196327     14.452923   \n",
       "min        1.000000      1.000000      1.000000      1.038745  40001.000000   \n",
       "25%        1.000000      2.000000      2.000000   1281.927192  40013.000000   \n",
       "50%        2.000000      2.000000      2.000000   2828.875079  40025.000000   \n",
       "75%        2.000000      2.000000      2.000000   6015.664108  40038.000000   \n",
       "max        3.000000      2.000000      2.000000  90053.310988  40050.000000   \n",
       "\n",
       "              VEREP  \n",
       "count  56276.000000  \n",
       "mean       1.498809  \n",
       "std        0.500003  \n",
       "min        1.000000  \n",
       "25%        1.000000  \n",
       "50%        1.000000  \n",
       "75%        2.000000  \n",
       "max        2.000000  \n",
       "\n",
       "[8 rows x 2666 columns]"
      ]
     },
     "execution_count": 5,
     "metadata": {},
     "output_type": "execute_result"
    }
   ],
   "source": [
    "%time drug.describe()"
   ]
  },
  {
   "cell_type": "markdown",
   "metadata": {},
   "source": [
    "\n",
    "## Usage patterns \n",
    "For the first part of the analysis we shall be looking at the usage statistics and basic visualizations associated with them for the 4 substances to learn more about their usage. We shall look the overall usage statistics, the % of people who partake in their consumption,the age at which they have started to do so and also the frequency with which they do so.\n",
    "\n",
    "**Cannabis usage**\n"
   ]
  },
  {
   "cell_type": "markdown",
   "metadata": {},
   "source": [
    "Lets start from the basics and see how many people in the dataset have used cannabis. We shall examine both the absolute number and the percentage. This will help us see if this is representative of the general population."
   ]
  },
  {
   "cell_type": "code",
   "execution_count": 8,
   "metadata": {},
   "outputs": [
    {
     "name": "stdout",
     "output_type": "stream",
     "text": [
      "No of people in the dataset who have used cannabis 24022 Percent of users surveyed 42.686047338119266 %\n"
     ]
    }
   ],
   "source": [
    "print(\"No of people in the dataset who have used cannabis\",len(data_weed_only),\"Percent of users surveyed\",len(data_weed_only)*100/len(drug),\"%\")"
   ]
  },
  {
   "cell_type": "markdown",
   "metadata": {},
   "source": [
    "This is inline with the national average which is estimated at 44%. This is the substance with the highest number of people using it after alcohol which is legal.\n",
    "\n",
    "For the people who have used Cannabis, lets look at the age they have started to do so in the form of a histogram. Visualization of this can let us understand how and when cannabis usage starts."
   ]
  },
  {
   "cell_type": "code",
   "execution_count": 7,
   "metadata": {},
   "outputs": [
    {
     "name": "stderr",
     "output_type": "stream",
     "text": [
      "No handles with labels found to put in legend.\n"
     ]
    },
    {
     "data": {
      "image/png": "[encoded data removed]",
      "text/plain": [
       "<Figure size 432x288 with 1 Axes>"
      ]
     },
     "metadata": {
      "needs_background": "light"
     },
     "output_type": "display_data"
    }
   ],
   "source": [
    "data_weed_only=drug.MJAGE[(drug['MJAGE'] >= 0) & (drug['MJAGE'] <= 100)]\n",
    "hist= thinkstats2.Hist(data_weed_only)\n",
    "thinkplot.hist(hist)\n",
    "thinkplot.Config(xlabel='Age at first tried cannabis', ylabel='No. of people', title='Histogram of ages at which cannabis was first tried')"
   ]
  },
  {
   "cell_type": "markdown",
   "metadata": {},
   "source": [
    "Here we can see that most people tend to start using cannabis between the ages of 15 and 25. This again lines up with the estimated mean age of 17-19 years at which people start usage of this substance in the United States. This also lends to the theory that most users start off in the social settings of high school or college\n",
    "\n",
    "\n",
    "Next, lets look at usage by seeing the number of times cannabis was used in the last year. This can help us understand how it affects the lives of its users"
   ]
  },
  {
   "cell_type": "code",
   "execution_count": 9,
   "metadata": {},
   "outputs": [
    {
     "name": "stderr",
     "output_type": "stream",
     "text": [
      "No handles with labels found to put in legend.\n"
     ]
    },
    {
     "data": {
      "image/png": "[encoded data removed]",
      "text/plain": [
       "<Figure size 432x288 with 1 Axes>"
      ]
     },
     "metadata": {
      "needs_background": "light"
     },
     "output_type": "display_data"
    }
   ],
   "source": [
    "data_weed_year=drug.MJYRTOT[ (drug['MJYRTOT'] <= 365)]\n",
    "bins = np.arange(0, 365, 10)#Grouped in bins of 10\n",
    "data_weed_year_bin = pd.cut(data_weed_year, bins=bins, labels=bins[:-1]).astype(float)\n",
    "cdf= thinkstats2.Cdf(data_weed_year_bin)\n",
    "thinkplot.cdf(cdf)\n",
    "thinkplot.Config(xlabel='No. of times marijuana was used in the trailing 12 months', ylabel='fraction of people', title='CDF of cannabis usage')"
   ]
  },
  {
   "cell_type": "markdown",
   "metadata": {},
   "source": [
    "Here in this graph we can see that around 25% of cannabis users have not consumed it in the past year and 50% of the users use it less than once a week. We then have a fairly linear graph from there onwards where around 75% of users use it less than 3 times a week. We see that the top 20% of the users use it almost 5 times a week."
   ]
  },
  {
   "cell_type": "markdown",
   "metadata": {},
   "source": [
    "**Coke usage**"
   ]
  },
  {
   "cell_type": "markdown",
   "metadata": {},
   "source": [
    "Now lets move on to something harder(more dangerous and intense) and see how many people in the dataset have used coke. Again we shall see both the absolute and percentage numbers which shall help us compare to national statistics."
   ]
  },
  {
   "cell_type": "code",
   "execution_count": 10,
   "metadata": {
    "scrolled": true
   },
   "outputs": [
    {
     "ename": "NameError",
     "evalue": "name 'data_coke_only' is not defined",
     "output_type": "error",
     "traceback": [
      "\u001b[0;31m---------------------------------------------------------------------------\u001b[0m",
      "\u001b[0;31mNameError\u001b[0m                                 Traceback (most recent call last)",
      "\u001b[0;32m<ipython-input-10-86e8c38cf775>\u001b[0m in \u001b[0;36m<module>\u001b[0;34m\u001b[0m\n\u001b[0;32m----> 1\u001b[0;31m \u001b[0mprint\u001b[0m\u001b[0;34m(\u001b[0m\u001b[0;34m\"No of people in the dataset who have used coke\"\u001b[0m\u001b[0;34m,\u001b[0m\u001b[0mlen\u001b[0m\u001b[0;34m(\u001b[0m\u001b[0mdata_coke_only\u001b[0m\u001b[0;34m)\u001b[0m\u001b[0;34m,\u001b[0m\u001b[0;34m\"Percent of users surveyed\"\u001b[0m\u001b[0;34m,\u001b[0m\u001b[0mlen\u001b[0m\u001b[0;34m(\u001b[0m\u001b[0mdata_coke_only\u001b[0m\u001b[0;34m)\u001b[0m\u001b[0;34m*\u001b[0m\u001b[0;36m100\u001b[0m\u001b[0;34m/\u001b[0m\u001b[0mlen\u001b[0m\u001b[0;34m(\u001b[0m\u001b[0mdrug\u001b[0m\u001b[0;34m)\u001b[0m\u001b[0;34m,\u001b[0m\u001b[0;34m\"%\"\u001b[0m\u001b[0;34m)\u001b[0m\u001b[0;34m\u001b[0m\u001b[0;34m\u001b[0m\u001b[0m\n\u001b[0m",
      "\u001b[0;31mNameError\u001b[0m: name 'data_coke_only' is not defined"
     ]
    }
   ],
   "source": [
    "print(\"No of people in the dataset who have used coke\",len(data_coke_only),\"Percent of users surveyed\",len(data_coke_only)*100/len(drug),\"%\")"
   ]
  },
  {
   "cell_type": "markdown",
   "metadata": {},
   "source": [
    "This lines up with the 38 million people(12%) in the US estimated to have tried cocaine at some point in their life."
   ]
  },
  {
   "cell_type": "markdown",
   "metadata": {},
   "source": [
    "For the people who have used Coke, lets look at the age they have started do so in a histogram. Again this shall help us understand when and how coke use starts."
   ]
  },
  {
   "cell_type": "code",
   "execution_count": 11,
   "metadata": {
    "scrolled": true
   },
   "outputs": [
    {
     "name": "stderr",
     "output_type": "stream",
     "text": [
      "No handles with labels found to put in legend.\n"
     ]
    },
    {
     "data": {
      "image/png": "[encoded data removed]",
      "text/plain": [
       "<Figure size 432x288 with 1 Axes>"
      ]
     },
     "metadata": {
      "needs_background": "light"
     },
     "output_type": "display_data"
    }
   ],
   "source": [
    "data_coc_only_age=drug.COCAGE[(drug['COCEVER'] == 1)&(drug['COCAGE'] >= 0) & (drug['COCAGE'] <= 100)]\n",
    "hist= thinkstats2.Hist(data_coc_only_age)\n",
    "thinkplot.hist(hist)\n",
    "thinkplot.Config(xlabel='Age at first tried coke', ylabel='No. of people', title='Histogram of ages at which coke was first tried')"
   ]
  },
  {
   "cell_type": "markdown",
   "metadata": {},
   "source": [
    "We can see in the graph that most people start between age 18 and age 25. The median age is definitely higher than that for cannabis suggesting most people try harder(more dangerous) drugs later on in life."
   ]
  },
  {
   "cell_type": "markdown",
   "metadata": {},
   "source": [
    "Again lets look at usage by seeing the number of times coke was used in the last year by people who have used it atleast once in their lives. I have binned data to the nearest 10 for clearer plotting."
   ]
  },
  {
   "cell_type": "code",
   "execution_count": 12,
   "metadata": {
    "scrolled": true
   },
   "outputs": [
    {
     "name": "stderr",
     "output_type": "stream",
     "text": [
      "No handles with labels found to put in legend.\n"
     ]
    },
    {
     "data": {
      "image/png": "[encoded data removed]",
      "text/plain": [
       "<Figure size 432x288 with 1 Axes>"
      ]
     },
     "metadata": {
      "needs_background": "light"
     },
     "output_type": "display_data"
    }
   ],
   "source": [
    "data_coc_year=drug.COCYRTOT[ (drug['COCYRTOT'] <= 365)]\n",
    "bins = np.arange(0, 365, 10)#Grouped in bins of 10\n",
    "data_coc_year_bin = pd.cut(data_coc_year, bins=bins, labels=bins[:-1]).astype(float)\n",
    "cdf= thinkstats2.Cdf(data_coc_year_bin)\n",
    "thinkplot.cdf(cdf)\n",
    "thinkplot.Config(xlabel='No. of times coke was used in the trailing 12 months', ylabel='Fraction of people', title='CDF of coke usage')"
   ]
  },
  {
   "cell_type": "markdown",
   "metadata": {},
   "source": [
    "Over 60% of people have not used coke in the trailing 12 months which suggests most people who tried it have not stuck to it in the long term. We then see above 90%, the 10% of users who use it over 100 times a year. These users can be assumed to be the outliers who are far more addicted than others."
   ]
  },
  {
   "cell_type": "markdown",
   "metadata": {},
   "source": [
    "**Heroin usage**"
   ]
  },
  {
   "cell_type": "markdown",
   "metadata": {},
   "source": [
    "Heroin again is a \"hard\" drug and considered very addictive. It is thought to be far less prevalent than the previous two. Lets explore the basic numbers for it."
   ]
  },
  {
   "cell_type": "code",
   "execution_count": 13,
   "metadata": {
    "scrolled": true
   },
   "outputs": [
    {
     "ename": "NameError",
     "evalue": "name 'data_her_only' is not defined",
     "output_type": "error",
     "traceback": [
      "\u001b[0;31m---------------------------------------------------------------------------\u001b[0m",
      "\u001b[0;31mNameError\u001b[0m                                 Traceback (most recent call last)",
      "\u001b[0;32m<ipython-input-13-f9fc127705a8>\u001b[0m in \u001b[0;36m<module>\u001b[0;34m\u001b[0m\n\u001b[0;32m----> 1\u001b[0;31m \u001b[0mprint\u001b[0m\u001b[0;34m(\u001b[0m\u001b[0;34m\"No of people in the dataset who have used heroin\"\u001b[0m\u001b[0;34m,\u001b[0m\u001b[0mlen\u001b[0m\u001b[0;34m(\u001b[0m\u001b[0mdata_her_only\u001b[0m\u001b[0;34m)\u001b[0m\u001b[0;34m,\u001b[0m\u001b[0;34m\"Percent of users surveyed\"\u001b[0m\u001b[0;34m,\u001b[0m\u001b[0mlen\u001b[0m\u001b[0;34m(\u001b[0m\u001b[0mdata_her_only\u001b[0m\u001b[0;34m)\u001b[0m\u001b[0;34m*\u001b[0m\u001b[0;36m100\u001b[0m\u001b[0;34m/\u001b[0m\u001b[0mlen\u001b[0m\u001b[0;34m(\u001b[0m\u001b[0mdrug\u001b[0m\u001b[0;34m)\u001b[0m\u001b[0;34m,\u001b[0m\u001b[0;34m\"%\"\u001b[0m\u001b[0;34m)\u001b[0m\u001b[0;34m\u001b[0m\u001b[0;34m\u001b[0m\u001b[0m\n\u001b[0m",
      "\u001b[0;31mNameError\u001b[0m: name 'data_her_only' is not defined"
     ]
    }
   ],
   "source": [
    "print(\"No of people in the dataset who have used heroin\",len(data_her_only),\"Percent of users surveyed\",len(data_her_only)*100/len(drug),\"%\")"
   ]
  },
  {
   "cell_type": "markdown",
   "metadata": {},
   "source": [
    "Heroin when compared to the other drugs is far less prevalent and only about 2% of the users surveyed have ever tried it. "
   ]
  },
  {
   "cell_type": "markdown",
   "metadata": {},
   "source": [
    "For the people who have used Heroin, lets look at the age they have started do so in a histogram. Again this shall allows us to observe and deduct how and when Heroin use might have occurred. "
   ]
  },
  {
   "cell_type": "code",
   "execution_count": 14,
   "metadata": {
    "scrolled": true
   },
   "outputs": [
    {
     "name": "stderr",
     "output_type": "stream",
     "text": [
      "No handles with labels found to put in legend.\n"
     ]
    },
    {
     "data": {
      "image/png": "[encoded data removed]",
      "text/plain": [
       "<Figure size 432x288 with 1 Axes>"
      ]
     },
     "metadata": {
      "needs_background": "light"
     },
     "output_type": "display_data"
    }
   ],
   "source": [
    "data_her_only_age=drug.HERAGE[(drug['HEREVER'] == 1)&(drug['HERAGE'] >= 0) & (drug['HERAGE'] <= 100)]\n",
    "hist= thinkstats2.Hist(data_her_only_age)\n",
    "thinkplot.hist(hist)\n",
    "thinkplot.Config(xlabel='Age at first tried heroine', ylabel='No. of people', title='Histogram of ages at which heorine was first tried')"
   ]
  },
  {
   "cell_type": "markdown",
   "metadata": {},
   "source": [
    "Heroin has a latter and a broader onset compared to the other drugs we have observed, with most people starting between the age of 18 and 35. This suggests unlike the other substances we have surveyed here, it is not something linked to the high school or college social setting."
   ]
  },
  {
   "cell_type": "markdown",
   "metadata": {},
   "source": [
    "Lets look at usage by seeing the number of time heroine was used in the last year by people have tried it atleast once in their lives. This is especially useful for heroin, an addictive opioid, as it shall help us gauge its addictiveness and effect on users."
   ]
  },
  {
   "cell_type": "code",
   "execution_count": 15,
   "metadata": {},
   "outputs": [
    {
     "name": "stderr",
     "output_type": "stream",
     "text": [
      "No handles with labels found to put in legend.\n"
     ]
    },
    {
     "data": {
      "image/png": "[encoded data removed]",
      "text/plain": [
       "<Figure size 432x288 with 1 Axes>"
      ]
     },
     "metadata": {
      "needs_background": "light"
     },
     "output_type": "display_data"
    }
   ],
   "source": [
    "data_her_year=drug.HERYRTOT[ (drug['HERYRTOT'] <= 365)]\n",
    "bins = np.arange(0, 365, 10)#Grouped in bins of 10\n",
    "data_her_year_bin = pd.cut(data_her_year, bins=bins, labels=bins[:-1]).astype(float)\n",
    "cdf= thinkstats2.Cdf(data_her_year_bin)\n",
    "thinkplot.cdf(cdf)\n",
    "thinkplot.Config(xlabel='No. of times heroine was used in the trailing 12 months', ylabel='Fraction of people', title='CDF of heroine usage')"
   ]
  },
  {
   "cell_type": "markdown",
   "metadata": {},
   "source": [
    "Less than 30% of the people who have tried at somepoint in their life have not used Heroin in the past year which is the lowest we have in the drugs we have examined till now. More than 50% of the people use it over 2 times a week suggesting its highly addictive."
   ]
  },
  {
   "cell_type": "markdown",
   "metadata": {},
   "source": [
    "**Alcohol usage**"
   ]
  },
  {
   "cell_type": "markdown",
   "metadata": {},
   "source": [
    " Alcohol is the one legal drug we are examining and thereby its prevalence is expected to be much higher than the rest."
   ]
  },
  {
   "cell_type": "code",
   "execution_count": 16,
   "metadata": {
    "scrolled": true
   },
   "outputs": [
    {
     "ename": "NameError",
     "evalue": "name 'data_alc_only' is not defined",
     "output_type": "error",
     "traceback": [
      "\u001b[0;31m---------------------------------------------------------------------------\u001b[0m",
      "\u001b[0;31mNameError\u001b[0m                                 Traceback (most recent call last)",
      "\u001b[0;32m<ipython-input-16-a5fbacac8a9f>\u001b[0m in \u001b[0;36m<module>\u001b[0;34m\u001b[0m\n\u001b[0;32m----> 1\u001b[0;31m \u001b[0mprint\u001b[0m\u001b[0;34m(\u001b[0m\u001b[0;34m\"No of people in the dataset who have used Alcohol\"\u001b[0m\u001b[0;34m,\u001b[0m\u001b[0mlen\u001b[0m\u001b[0;34m(\u001b[0m\u001b[0mdata_alc_only\u001b[0m\u001b[0;34m)\u001b[0m\u001b[0;34m,\u001b[0m\u001b[0;34m\"Percent of users surveyed\"\u001b[0m\u001b[0;34m,\u001b[0m\u001b[0mlen\u001b[0m\u001b[0;34m(\u001b[0m\u001b[0mdata_alc_only\u001b[0m\u001b[0;34m)\u001b[0m\u001b[0;34m*\u001b[0m\u001b[0;36m100\u001b[0m\u001b[0;34m/\u001b[0m\u001b[0mlen\u001b[0m\u001b[0;34m(\u001b[0m\u001b[0mdrug\u001b[0m\u001b[0;34m)\u001b[0m\u001b[0;34m,\u001b[0m\u001b[0;34m\"%\"\u001b[0m\u001b[0;34m)\u001b[0m\u001b[0;34m\u001b[0m\u001b[0;34m\u001b[0m\u001b[0m\n\u001b[0m",
      "\u001b[0;31mNameError\u001b[0m: name 'data_alc_only' is not defined"
     ]
    }
   ],
   "source": [
    "print(\"No of people in the dataset who have used Alcohol\",len(data_alc_only),\"Percent of users surveyed\",len(data_alc_only)*100/len(drug),\"%\")"
   ]
  },
  {
   "cell_type": "markdown",
   "metadata": {},
   "source": [
    "This is pretty close to the statistics reported by the National Institute on Alcohol abuse which states around 75% of Americans have consumed alcohol at some point in their life. \n"
   ]
  },
  {
   "cell_type": "markdown",
   "metadata": {},
   "source": [
    "For the people who have used Alcohol, lets look at the age they have started do so in a histogram. This visualization will allow us to again understand how and when they have first consumed this substance."
   ]
  },
  {
   "cell_type": "code",
   "execution_count": 17,
   "metadata": {
    "scrolled": true
   },
   "outputs": [
    {
     "ename": "NameError",
     "evalue": "name 'data_alc_only_age' is not defined",
     "output_type": "error",
     "traceback": [
      "\u001b[0;31m---------------------------------------------------------------------------\u001b[0m",
      "\u001b[0;31mNameError\u001b[0m                                 Traceback (most recent call last)",
      "\u001b[0;32m<ipython-input-17-27f5578ca8d9>\u001b[0m in \u001b[0;36m<module>\u001b[0;34m\u001b[0m\n\u001b[1;32m      1\u001b[0m \u001b[0mdata_alc_only\u001b[0m\u001b[0;34m=\u001b[0m\u001b[0mdrug\u001b[0m\u001b[0;34m.\u001b[0m\u001b[0mALCEVER\u001b[0m\u001b[0;34m[\u001b[0m\u001b[0;34m(\u001b[0m\u001b[0mdrug\u001b[0m\u001b[0;34m[\u001b[0m\u001b[0;34m'ALCEVER'\u001b[0m\u001b[0;34m]\u001b[0m \u001b[0;34m==\u001b[0m \u001b[0;36m1\u001b[0m\u001b[0;34m)\u001b[0m\u001b[0;34m]\u001b[0m\u001b[0;34m\u001b[0m\u001b[0;34m\u001b[0m\u001b[0m\n\u001b[0;32m----> 2\u001b[0;31m \u001b[0mhist\u001b[0m\u001b[0;34m=\u001b[0m \u001b[0mthinkstats2\u001b[0m\u001b[0;34m.\u001b[0m\u001b[0mHist\u001b[0m\u001b[0;34m(\u001b[0m\u001b[0mdata_alc_only_age\u001b[0m\u001b[0;34m)\u001b[0m\u001b[0;34m\u001b[0m\u001b[0;34m\u001b[0m\u001b[0m\n\u001b[0m\u001b[1;32m      3\u001b[0m \u001b[0mthinkplot\u001b[0m\u001b[0;34m.\u001b[0m\u001b[0mhist\u001b[0m\u001b[0;34m(\u001b[0m\u001b[0mhist\u001b[0m\u001b[0;34m)\u001b[0m\u001b[0;34m\u001b[0m\u001b[0;34m\u001b[0m\u001b[0m\n\u001b[1;32m      4\u001b[0m \u001b[0mthinkplot\u001b[0m\u001b[0;34m.\u001b[0m\u001b[0mConfig\u001b[0m\u001b[0;34m(\u001b[0m\u001b[0mxlabel\u001b[0m\u001b[0;34m=\u001b[0m\u001b[0;34m'Age at first tried alcohol'\u001b[0m\u001b[0;34m,\u001b[0m \u001b[0mylabel\u001b[0m\u001b[0;34m=\u001b[0m\u001b[0;34m'No. of people'\u001b[0m\u001b[0;34m,\u001b[0m \u001b[0mtitle\u001b[0m\u001b[0;34m=\u001b[0m\u001b[0;34m'Histogram of ages at which alcohol was first tried'\u001b[0m\u001b[0;34m)\u001b[0m\u001b[0;34m\u001b[0m\u001b[0;34m\u001b[0m\u001b[0m\n",
      "\u001b[0;31mNameError\u001b[0m: name 'data_alc_only_age' is not defined"
     ]
    }
   ],
   "source": [
    "data_alc_only=drug.ALCEVER[(drug['ALCEVER'] == 1)]\n",
    "hist= thinkstats2.Hist(data_alc_only_age)\n",
    "thinkplot.hist(hist)\n",
    "thinkplot.Config(xlabel='Age at first tried alcohol', ylabel='No. of people', title='Histogram of ages at which alcohol was first tried')"
   ]
  },
  {
   "cell_type": "markdown",
   "metadata": {},
   "source": [
    "It is very obvious for us to infer here that most people have first consumed alcohol between the ages of 10 & 20 confirming the general theory that many have their first brush with alcohol in a high school or college setting."
   ]
  },
  {
   "cell_type": "markdown",
   "metadata": {},
   "source": [
    "Lets look at usage by seeing the no of times alcohol was used in the last year. Again this shall give us more data to infer its usage patterns from."
   ]
  },
  {
   "cell_type": "code",
   "execution_count": 18,
   "metadata": {
    "scrolled": true
   },
   "outputs": [
    {
     "name": "stderr",
     "output_type": "stream",
     "text": [
      "No handles with labels found to put in legend.\n"
     ]
    },
    {
     "data": {
      "image/png": "[encoded data removed]",
      "text/plain": [
       "<Figure size 432x288 with 1 Axes>"
      ]
     },
     "metadata": {
      "needs_background": "light"
     },
     "output_type": "display_data"
    }
   ],
   "source": [
    "data_alc_year=drug.ALCYRTOT[ (drug['ALCYRTOT'] <= 365)]\n",
    "bins = np.arange(0, 365, 10)#Grouped in bins of 10\n",
    "data_alc_year_bin = pd.cut(data_alc_year, bins=bins, labels=bins[:-1]).astype(float)\n",
    "cdf= thinkstats2.Cdf(data_alc_year_bin)\n",
    "thinkplot.cdf(cdf)\n",
    "thinkplot.Config(xlabel='No. of times alcohol was used in the trailing 12 months', ylabel='Fraction of people', title='CDF of alcohol usage')"
   ]
  },
  {
   "cell_type": "markdown",
   "metadata": {},
   "source": [
    "More than 80% of the people who have ever had alcohol consumed it in the past year. This can be attributed to its social acceptability and legal nature. We can see then see an exponential trend with fewer and fewer people consuming it on a more frequent basis."
   ]
  },
  {
   "cell_type": "markdown",
   "metadata": {},
   "source": [
    "## Correlations in drug use\n",
    "\n",
    "\n",
    "For the second part, we are looking at the correlations in usage between cannabis and other substances and will try to visualize some of these relationships. This is highly interesting as legalization is a very much debated issue with cannabis labeled as the \"gateway\" drug. We are not looking to draw any concrete conclusions but are just looking for intersting data points and patterns."
   ]
  },
  {
   "cell_type": "markdown",
   "metadata": {},
   "source": [
    "**Cannabis and alcohol**\n",
    "\n",
    "Cannabis and alcohol are the 2 most prevalent drugs with 72% and 45% of the users surveyed respectively replying that they have tried them at some point of their lives.\n",
    "\n",
    "We shall look at the mean ages at which users who have done both substances started each substance to see if there are any interesting correlations."
   ]
  },
  {
   "cell_type": "code",
   "execution_count": 19,
   "metadata": {},
   "outputs": [
    {
     "name": "stdout",
     "output_type": "stream",
     "text": [
      "Avg age cannabis users have first tried alcohol 15.662202445241284\n",
      "Avg age Alcohol users have first tried cannabis 17.196180930574158\n",
      "Avg age Alcohol users(who have not done cannabis) have first tried alcohol 18.27062133365258\n",
      "Avg age cannabis users(who have not done alcohol) have first tried cannabis 15.785714285714286\n",
      "Cohen effect size between the age difference of people who have done only alcohol and people who have done both alcohol and marijuana= -0.23296699252090242\n"
     ]
    }
   ],
   "source": [
    "data_alc_weed_age=drug.ALCTRY[(drug['MJEVER'] == 1) & (drug['ALCEVER'] == 1)&(drug['MJAGE'] >= 0) & (drug['MJAGE'] <= 100)&(drug['ALCTRY'] >= 0) & (drug['ALCTRY'] <= 100)]\n",
    "data_weed_alc_age=drug.MJAGE[(drug['ALCEVER'] == 1)& (drug['MJEVER'] == 1)&(drug['MJAGE'] >= 0) & (drug['MJAGE'] <= 100)&(drug['ALCTRY'] >= 0) & (drug['ALCTRY'] <= 100)]\n",
    "data_alc_only_age=drug.ALCTRY[(drug['ALCEVER'] == 1)&(drug['ALCTRY'] >= 0) & (drug['ALCTRY'] <= 100)&(drug['MJEVER'] == 2)]\n",
    "data_weed_only_age=drug.MJAGE[(drug['MJEVER'] == 1)&(drug['MJAGE'] >= 0) & (drug['MJAGE'] <= 100)&(drug['ALCEVER'] == 2)]\n",
    "print(\"Avg age cannabis users have first tried alcohol\" , data_alc_weed_age.mean())\n",
    "\n",
    "print(\"Avg age Alcohol users have first tried cannabis\" , data_weed_alc_age.mean())\n",
    "print(\"Avg age Alcohol users(who have not done cannabis) have first tried alcohol\", data_alc_only_age.mean())\n",
    "print(\"Avg age cannabis users(who have not done alcohol) have first tried cannabis\" ,data_weed_only_age.mean())\n",
    "\n",
    "print(\"Cohen effect size between the age difference of people who have done only alcohol and people who have done both alcohol and marijuana=\",CohenEffectSize(data_weed_alc_age,data_alc_only_age))#Cohen effect size between people who have done only alc and those who \n",
    "#did both"
   ]
  },
  {
   "cell_type": "markdown",
   "metadata": {},
   "source": [
    "\n",
    "This leaves us with 2 interesting points to note, the first being that cannabis use in alcohol users lowers the age of first brush with alcohol by a very significant amount but alcohol use in cannabis users shows a much smaller difference and the second saying cannabis users start off much younger than alcohol which is suprising considering the legalities of both."
   ]
  },
  {
   "cell_type": "markdown",
   "metadata": {},
   "source": [
    "Visualizing this relationship as a scatter plot with a line of regression added helps us understand how the age of first alcohol use varies with the age of first use of cannabis."
   ]
  },
  {
   "cell_type": "code",
   "execution_count": 20,
   "metadata": {},
   "outputs": [
    {
     "data": {
      "text/plain": [
       "[<matplotlib.lines.Line2D at 0x7f5962b85630>]"
      ]
     },
     "execution_count": 20,
     "metadata": {},
     "output_type": "execute_result"
    },
    {
     "data": {
      "image/png": "[encoded data removed]",
      "text/plain": [
       "<Figure size 432x288 with 1 Axes>"
      ]
     },
     "metadata": {
      "needs_background": "light"
     },
     "output_type": "display_data"
    }
   ],
   "source": [
    "import matplotlib.pyplot as plt\n",
    "\n",
    "\n",
    "plt.plot(data_weed_alc_age, data_alc_weed_age, 'o', markersize='2', alpha=0.2)\n",
    "plt.title('Scatter plot and regression between cannabis and alcohol use')\n",
    "plt.xlabel('Age of first cannabis use')\n",
    "plt.ylabel('Age of first alcohol use');\n",
    "\n",
    "xs = data_weed_alc_age.dropna()\n",
    "ys = data_alc_weed_age.dropna()\n",
    "\n",
    "res = linregress(xs, ys)\n",
    "res\n",
    "fx = np.array([xs.min(), xs.max()])\n",
    "fy = res.intercept + res.slope * fx\n",
    "plt.plot(fx, fy, '-', alpha=0.5)\n"
   ]
  },
  {
   "cell_type": "markdown",
   "metadata": {},
   "source": [
    "Interpreting this scatter plot, we can infer that, at lower ages, a lower age of alcohol use correlates with a lower age of weed use and vice versa. At later ages, we just see outliers which don't provide us with much information"
   ]
  },
  {
   "cell_type": "markdown",
   "metadata": {},
   "source": [
    "\n",
    "**Cannabis and coke**\n",
    "\n",
    "Next, lets look at patterns between the usage of cannabis and coke, This is a correlation which is interesting as we are examining the link in usage between two illegal drugs of varying intensities."
   ]
  },
  {
   "cell_type": "code",
   "execution_count": 21,
   "metadata": {},
   "outputs": [
    {
     "name": "stdout",
     "output_type": "stream",
     "text": [
      "Age marijuana users have first tried coke 20.680366692131397\n",
      "Age coke users have first tried marijuana 15.70252100840336\n",
      "Age coke users(who have not done marijuana) have first tried coke 22.511111111111113\n",
      "Age marijuana users(who have not done coke) have first tried marijuana 17.149571226375823\n",
      "Cohen effect size between the age difference of people who have done only cocaine and people who have done both cocaine and marijuana= -1.8606811418224223\n"
     ]
    }
   ],
   "source": [
    "data_coc_weed_age=drug.COCAGE[(drug['MJEVER'] == 1) & (drug['COCEVER'] == 1)&(drug['MJAGE'] >= 0) & (drug['MJAGE'] <= 100)&(drug['COCAGE'] >= 0) & (drug['COCAGE'] <= 60)]\n",
    "data_weed_coc_age=drug.MJAGE[(drug['COCEVER'] == 1)& (drug['MJEVER'] == 1)&(drug['MJAGE'] >= 0) & (drug['MJAGE'] <= 100)&(drug['COCAGE'] >= 0) & (drug['COCAGE'] <= 60)]\n",
    "data_coc_only_age=drug.COCAGE[(drug['COCEVER'] == 1)&(drug['COCAGE'] >= 0) & (drug['COCAGE'] <= 100)&(drug['MJEVER'] == 2)]\n",
    "data_weed_only_age=drug.MJAGE[(drug['MJEVER'] == 1)&(drug['MJAGE'] >= 0) & (drug['MJAGE'] <= 100)]\n",
    "print(\"Age marijuana users have first tried coke\" , data_coc_weed_age.mean())\n",
    "\n",
    "print(\"Age coke users have first tried marijuana\" , data_weed_coc_age.mean())\n",
    "print(\"Age coke users(who have not done marijuana) have first tried coke\", data_coc_only_age.mean())\n",
    "print(\"Age marijuana users(who have not done coke) have first tried marijuana\" ,data_weed_only_age.mean())\n",
    "print(\"Cohen effect size between the age difference of people who have done only cocaine and people who have done both cocaine and marijuana=\",CohenEffectSize(data_weed_coc_age,data_coc_only_age))#Cohen effect size between people who have done only coc and those who \n",
    "#did both"
   ]
  },
  {
   "cell_type": "markdown",
   "metadata": {},
   "source": [
    "\n",
    "We can see here that cocaine users who have used cannabis have started using coke almost two years earlier compared to those who haven't. This suggests that people who have consumed cannabis have used harder drugs earlier compared to those who haven't. There is nothing conclusive to be drawn from this but it is an interesting pattern.\n",
    "\n",
    "We shall again plot the scatter plot and regression to visualize the relationship."
   ]
  },
  {
   "cell_type": "code",
   "execution_count": 22,
   "metadata": {},
   "outputs": [
    {
     "data": {
      "text/plain": [
       "[<matplotlib.lines.Line2D at 0x7f596265fbe0>]"
      ]
     },
     "execution_count": 22,
     "metadata": {},
     "output_type": "execute_result"
    },
    {
     "data": {
      "image/png": "[encoded data removed]",
      "text/plain": [
       "<Figure size 432x288 with 1 Axes>"
      ]
     },
     "metadata": {
      "needs_background": "light"
     },
     "output_type": "display_data"
    }
   ],
   "source": [
    "import matplotlib.pyplot as plt\n",
    "\n",
    "\n",
    "plt.plot(data_weed_coc_age, data_coc_weed_age, 'o', markersize='2', alpha=0.2)\n",
    "\n",
    "plt.xlabel('Age of first cannabis use')\n",
    "plt.ylabel('Age of first Cocaine use');\n",
    "\n",
    "from scipy.stats import linregress\n",
    "\n",
    "plt.title('Scatter plot and regression between cannabis and cocaine use')\n",
    "\n",
    "xs = data_weed_coc_age.dropna()\n",
    "ys = data_coc_weed_age.dropna()\n",
    "\n",
    "res = linregress(xs, ys)\n",
    "res\n",
    "fx = np.array([xs.min(), xs.max()])\n",
    "fy = res.intercept + res.slope * fx\n",
    "plt.plot(fx, fy, '-', alpha=0.5)"
   ]
  },
  {
   "cell_type": "markdown",
   "metadata": {},
   "source": [
    "We see correlation on both sides of this relationship. A lower age of first cannabis use means a lower age of first coke use and vice-versa. This correlation interestingly exists at relatively higher ages compared to the one between cannabis and alcohol.\n",
    "\n",
    "\n",
    "**Cannabis and heroin**\n",
    "\n",
    "The relation between Heroin and cannabis should be interesting as heroin is the drug which had the highest overlap of users with cannabis. Over 95% of all Heroin users have consumed cannabis."
   ]
  },
  {
   "cell_type": "code",
   "execution_count": 23,
   "metadata": {},
   "outputs": [
    {
     "ename": "NameError",
     "evalue": "name 'data_her_weed' is not defined",
     "output_type": "error",
     "traceback": [
      "\u001b[0;31m---------------------------------------------------------------------------\u001b[0m",
      "\u001b[0;31mNameError\u001b[0m                                 Traceback (most recent call last)",
      "\u001b[0;32m<ipython-input-23-c941c0b85b92>\u001b[0m in \u001b[0;36m<module>\u001b[0;34m\u001b[0m\n\u001b[1;32m      3\u001b[0m \u001b[0mdata_her_only_age\u001b[0m\u001b[0;34m=\u001b[0m\u001b[0mdrug\u001b[0m\u001b[0;34m.\u001b[0m\u001b[0mHERAGE\u001b[0m\u001b[0;34m[\u001b[0m\u001b[0;34m(\u001b[0m\u001b[0mdrug\u001b[0m\u001b[0;34m[\u001b[0m\u001b[0;34m'HEREVER'\u001b[0m\u001b[0;34m]\u001b[0m \u001b[0;34m==\u001b[0m \u001b[0;36m1\u001b[0m\u001b[0;34m)\u001b[0m\u001b[0;34m&\u001b[0m\u001b[0;34m(\u001b[0m\u001b[0mdrug\u001b[0m\u001b[0;34m[\u001b[0m\u001b[0;34m'HERAGE'\u001b[0m\u001b[0;34m]\u001b[0m \u001b[0;34m>=\u001b[0m \u001b[0;36m0\u001b[0m\u001b[0;34m)\u001b[0m \u001b[0;34m&\u001b[0m \u001b[0;34m(\u001b[0m\u001b[0mdrug\u001b[0m\u001b[0;34m[\u001b[0m\u001b[0;34m'HERAGE'\u001b[0m\u001b[0;34m]\u001b[0m \u001b[0;34m<=\u001b[0m \u001b[0;36m100\u001b[0m\u001b[0;34m)\u001b[0m\u001b[0;34m&\u001b[0m\u001b[0;34m(\u001b[0m\u001b[0mdrug\u001b[0m\u001b[0;34m[\u001b[0m\u001b[0;34m'MJEVER'\u001b[0m\u001b[0;34m]\u001b[0m \u001b[0;34m==\u001b[0m \u001b[0;36m2\u001b[0m\u001b[0;34m)\u001b[0m\u001b[0;34m]\u001b[0m\u001b[0;34m\u001b[0m\u001b[0;34m\u001b[0m\u001b[0m\n\u001b[1;32m      4\u001b[0m \u001b[0mdata_weed_only_age\u001b[0m\u001b[0;34m=\u001b[0m\u001b[0mdrug\u001b[0m\u001b[0;34m.\u001b[0m\u001b[0mMJAGE\u001b[0m\u001b[0;34m[\u001b[0m\u001b[0;34m(\u001b[0m\u001b[0mdrug\u001b[0m\u001b[0;34m[\u001b[0m\u001b[0;34m'MJEVER'\u001b[0m\u001b[0;34m]\u001b[0m \u001b[0;34m==\u001b[0m \u001b[0;36m1\u001b[0m\u001b[0;34m)\u001b[0m\u001b[0;34m&\u001b[0m\u001b[0;34m(\u001b[0m\u001b[0mdrug\u001b[0m\u001b[0;34m[\u001b[0m\u001b[0;34m'MJAGE'\u001b[0m\u001b[0;34m]\u001b[0m \u001b[0;34m>=\u001b[0m \u001b[0;36m0\u001b[0m\u001b[0;34m)\u001b[0m \u001b[0;34m&\u001b[0m \u001b[0;34m(\u001b[0m\u001b[0mdrug\u001b[0m\u001b[0;34m[\u001b[0m\u001b[0;34m'MJAGE'\u001b[0m\u001b[0;34m]\u001b[0m \u001b[0;34m<=\u001b[0m \u001b[0;36m100\u001b[0m\u001b[0;34m)\u001b[0m\u001b[0;34m]\u001b[0m\u001b[0;34m\u001b[0m\u001b[0;34m\u001b[0m\u001b[0m\n\u001b[0;32m----> 5\u001b[0;31m \u001b[0mprint\u001b[0m\u001b[0;34m(\u001b[0m\u001b[0;34m\"% of heroine users who have consumed cannabis= \"\u001b[0m\u001b[0;34m,\u001b[0m\u001b[0;34m(\u001b[0m\u001b[0mlen\u001b[0m\u001b[0;34m(\u001b[0m\u001b[0mdata_her_weed\u001b[0m\u001b[0;34m)\u001b[0m\u001b[0;34m/\u001b[0m\u001b[0mlen\u001b[0m\u001b[0;34m(\u001b[0m\u001b[0mdata_her_only\u001b[0m\u001b[0;34m)\u001b[0m\u001b[0;34m)\u001b[0m\u001b[0;34m*\u001b[0m\u001b[0;36m100\u001b[0m\u001b[0;34m)\u001b[0m\u001b[0;34m\u001b[0m\u001b[0;34m\u001b[0m\u001b[0m\n\u001b[0m\u001b[1;32m      6\u001b[0m \u001b[0;34m\u001b[0m\u001b[0m\n\u001b[1;32m      7\u001b[0m \u001b[0mprint\u001b[0m\u001b[0;34m(\u001b[0m\u001b[0;34m\"Age marijuana users have first tried heroin\"\u001b[0m \u001b[0;34m,\u001b[0m \u001b[0mdata_her_weed_age\u001b[0m\u001b[0;34m.\u001b[0m\u001b[0mmean\u001b[0m\u001b[0;34m(\u001b[0m\u001b[0;34m)\u001b[0m\u001b[0;34m)\u001b[0m\u001b[0;34m\u001b[0m\u001b[0;34m\u001b[0m\u001b[0m\n",
      "\u001b[0;31mNameError\u001b[0m: name 'data_her_weed' is not defined"
     ]
    }
   ],
   "source": [
    "data_her_weed_age=drug.HERAGE[(drug['MJEVER'] == 1) & (drug['HEREVER'] == 1)&(drug['MJAGE'] >= 0) & (drug['MJAGE'] <= 100)&(drug['HERAGE'] >= 0) & (drug['HERAGE'] <= 60)]\n",
    "data_weed_her_age=drug.MJAGE[(drug['HEREVER'] == 1)& (drug['MJEVER'] == 1)&(drug['MJAGE'] >= 0) & (drug['MJAGE'] <= 100)&(drug['HERAGE'] >= 0) & (drug['HERAGE'] <= 60)]\n",
    "data_her_only_age=drug.HERAGE[(drug['HEREVER'] == 1)&(drug['HERAGE'] >= 0) & (drug['HERAGE'] <= 100)&(drug['MJEVER'] == 2)]\n",
    "data_weed_only_age=drug.MJAGE[(drug['MJEVER'] == 1)&(drug['MJAGE'] >= 0) & (drug['MJAGE'] <= 100)]\n",
    "print(\"% of heroine users who have consumed cannabis= \",(len(data_her_weed)/len(data_her_only))*100)\n",
    "\n",
    "print(\"Age marijuana users have first tried heroin\" , data_her_weed_age.mean())\n",
    "\n",
    "print(\"Age heroin users have first tried cannabis\" , data_weed_her_age.mean())\n",
    "print(\"Age heroin users(who have not done cannabis) have first tried heroin\", data_her_only_age.mean())\n",
    "print(\"Age cannabis users(who have not done heroin) have first tried cannabis\" ,data_weed_only_age.mean())\n",
    "print(\"Cohen effect size between the age difference of people who have done only heroin and people who have done both heroin and marijuana=\",CohenEffectSize(data_weed_her_age,data_her_only_age))#Cohen effect size between people who have done only heroine and those who \n",
    "#did both"
   ]
  },
  {
   "cell_type": "markdown",
   "metadata": {},
   "source": [
    "The high overlap is something we definitely need to think about as we interpret any correlations using these relations. The fact that less than 5% of Heroin users have not used cannabis means that the age heroin users who have not used cannabis first tried heroin might not be a very important parameter as it is a set with less than 50 people in a dataset of 50,000.\n",
    "\n",
    "The difference between the age heroin users first tried cannabis and the age cannabis only users have used cannabis is pretty large suggesting users of harder drugs are probably more likely to have tried cannabis at an earlier age.\n",
    "\n",
    "We shall now plot the scatter plot between the age at which people have tried heroin and the age they have tried cannabis along with a regression to visualize the correlation."
   ]
  },
  {
   "cell_type": "code",
   "execution_count": 24,
   "metadata": {},
   "outputs": [
    {
     "data": {
      "text/plain": [
       "[<matplotlib.lines.Line2D at 0x7f59627a46a0>]"
      ]
     },
     "execution_count": 24,
     "metadata": {},
     "output_type": "execute_result"
    },
    {
     "data": {
      "image/png": "[encoded data removed]",
      "text/plain": [
       "<Figure size 432x288 with 1 Axes>"
      ]
     },
     "metadata": {
      "needs_background": "light"
     },
     "output_type": "display_data"
    }
   ],
   "source": [
    "import matplotlib.pyplot as plt\n",
    "\n",
    "\n",
    "plt.plot(data_weed_her_age, data_her_weed_age, 'o', markersize='2', alpha=0.2)\n",
    "plt.title('Scatter plot and regression between cannabis and heroin use')\n",
    "\n",
    "plt.xlabel('Age of first cannabis use')\n",
    "plt.ylabel('Age of first Heroin use');\n",
    "\n",
    "xs = data_weed_her_age.dropna()\n",
    "ys = data_her_weed_age.dropna()\n",
    "\n",
    "res = linregress(xs, ys)\n",
    "res\n",
    "fx = np.array([xs.min(), xs.max()])\n",
    "fy = res.intercept + res.slope * fx\n",
    "plt.plot(fx, fy, '-', alpha=0.5)"
   ]
  },
  {
   "cell_type": "markdown",
   "metadata": {},
   "source": [
    "\n",
    "There appears to be no significant correlation outside the fact that age of first cannabis use between the ages of 15 and 20 correlates with earlier Heroin use.The age at which people have tried Heroin later seems to be an independent variable not dependent on cannabis use.\n",
    "\n",
    "\n",
    "I am now going to plot four CDFs indicating the age at which people have tried various substances. This is just to view the trends.\n"
   ]
  },
  {
   "cell_type": "code",
   "execution_count": 25,
   "metadata": {},
   "outputs": [],
   "source": [
    "data_alc_age=drug.ALCTRY[(drug['ALCEVER'] == 1)&(drug['ALCTRY'] >= 0) & (drug['ALCTRY'] <= 100)]\n",
    "data_weed_age=drug.MJAGE[(drug['MJEVER'] == 1)&(drug['MJAGE'] >= 0) & (drug['MJAGE'] <=100)]\n",
    "data_her_age=drug.HERAGE[(drug['HEREVER'] == 1)&(drug['HERAGE'] >= 0) & (drug['HERAGE'] <= 100)]\n",
    "data_coc_age=drug.COCAGE[(drug['COCEVER'] == 1)&(drug['COCAGE'] >= 0) & (drug['COCAGE'] <= 100)]"
   ]
  },
  {
   "cell_type": "code",
   "execution_count": 26,
   "metadata": {},
   "outputs": [
    {
     "data": {
      "image/png": "[encoded data removed]",
      "text/plain": [
       "<Figure size 432x288 with 1 Axes>"
      ]
     },
     "metadata": {
      "needs_background": "light"
     },
     "output_type": "display_data"
    }
   ],
   "source": [
    "thinkplot.PrePlot(4)\n",
    "cdf_alc = Cdf(data_alc_age)\n",
    "cdf_weed = Cdf(data_weed_age)\n",
    "cdf_her = Cdf(data_her_age)\n",
    "cdf_coke = Cdf(data_coc_age)\n",
    "\n",
    "thinkplot.cdf(cdf_alc, label='alcohol')\n",
    "thinkplot.cdf(cdf_weed, label='cannabis')\n",
    "thinkplot.cdf(cdf_her, label='heroine')\n",
    "thinkplot.cdf(cdf_coke, label='coke')\n",
    "#CDFs indicaging ages at which various drugs are tried.\n",
    "thinkplot.Config(xlabel='Age at first tried drug', ylabel='fraction of people', title='CDF of ages at which various substances were first tried')"
   ]
  },
  {
   "cell_type": "markdown",
   "metadata": {},
   "source": [
    "What we see here broadly is that the age at which people try cannabis and alcohol are relatively lower compared to the harder drug.\n",
    "\n",
    "**CONCLUSIONS**"
   ]
  },
  {
   "cell_type": "markdown",
   "metadata": {},
   "source": [
    "There are clear differences in ages at which people who have not done cannabis and people who have done, start using each of the other substances. We also see a clear pattern where correlation between cannabis use and other drugs is strong. Both of these results suggest that cannabis might have acted as a gateway drug but we have no clear way to prove that. Looking at this correlations and distributions, we can try to infer data regarding how these usages impact people and how they might have started off. "
   ]
  },
  {
   "cell_type": "markdown",
   "metadata": {},
   "source": [
    "All the cells below are those with correlation explored but they will not be included in the report as they have nothing important that can add to the story."
   ]
  },
  {
   "cell_type": "markdown",
   "metadata": {},
   "source": [
    "Exploring the idea of which drugs show most correlation with cannabis use. This is one of the questions I wanted to explore. We will be looking the overlap in users between Weed Cocaine, Alcohol, Heroine and LSD"
   ]
  },
  {
   "cell_type": "code",
   "execution_count": 27,
   "metadata": {},
   "outputs": [],
   "source": [
    "cdf_coke_weed = Cdf(data_coc_weed_age);\n",
    "cdf_coke_only = Cdf(data_coc_only_age)"
   ]
  },
  {
   "cell_type": "markdown",
   "metadata": {},
   "source": [
    "**Cannabis and coke use**"
   ]
  },
  {
   "cell_type": "markdown",
   "metadata": {},
   "source": []
  },
  {
   "cell_type": "code",
   "execution_count": 28,
   "metadata": {
    "scrolled": false
   },
   "outputs": [
    {
     "name": "stdout",
     "output_type": "stream",
     "text": [
      "% of coke users who have consumed marijuana=  97.53891771682729\n",
      "% of marijuana users who have consumed coke  =  27.38739488801932\n",
      "No of people who have done marijuana =  24022\n",
      "No of people who have done coke =  6745\n"
     ]
    }
   ],
   "source": [
    "data_coke_weed=drug.COCEVER[(drug['MJAGE'] >= 0) & (drug['MJAGE'] <= 100) & (drug['COCEVER'] == 1)]\n",
    "data_coke_only=drug.COCEVER[(drug['COCEVER'] == 1)]\n",
    "\n",
    "print(\"% of coke users who have consumed marijuana= \",(len(data_coke_weed)/len(data_coke_only))*100)#97.5% of coke users have consumed marijunana in the past\n",
    "\n",
    "data_weed_coke=drug.MJAGE[(drug['MJAGE'] >= 0) & (drug['MJAGE'] <= 100) & (drug['COCEVER'] == 1)]\n",
    "print(\"% of marijuana users who have consumed coke  = \",(len(data_weed_coke)/len(data_weed_only))*100)#Only 27% of weed users have done coke. \n",
    "\n",
    "print(\"No of people who have done marijuana = \",len(data_weed_only))\n",
    "print(\"No of people who have done coke = \",len(data_coke_only))\n",
    "#did both\n"
   ]
  },
  {
   "cell_type": "markdown",
   "metadata": {},
   "source": [
    "**Cannabis and heroine**"
   ]
  },
  {
   "cell_type": "code",
   "execution_count": 29,
   "metadata": {},
   "outputs": [
    {
     "name": "stdout",
     "output_type": "stream",
     "text": [
      "% of heroine users who have consumed marijuana=  96.98736637512148\n",
      "% of marijuana users who have consumed heroine  =  4.154525018732828\n",
      "No of people who have done marijuana =  24022\n",
      "No of people who have done heroine =  1029\n"
     ]
    }
   ],
   "source": [
    "data_her_weed=drug.HEREVER[(drug['MJAGE'] >= 0) & (drug['MJAGE'] <= 100) & (drug['HEREVER'] == 1)]\n",
    "data_her_only=drug.HEREVER[(drug['HEREVER'] == 1)]\n",
    "\n",
    "print(\"% of heroine users who have consumed marijuana= \",(len(data_her_weed)/len(data_her_only))*100)#96.7% of Heroine users have consumed marijunana\n",
    "\n",
    "data_weed_her=drug.MJAGE[(drug['MJAGE'] >= 0) & (drug['MJAGE'] <= 100) & (drug['HEREVER'] == 1)]\n",
    "print(\"% of marijuana users who have consumed heroine  = \",(len(data_her_weed)/len(data_weed_only))*100)#4.15% of weed users have consumed heroine\n",
    "\n",
    "print(\"No of people who have done marijuana = \",len(data_weed_only))\n",
    "print(\"No of people who have done heroine = \",len(data_her_only))"
   ]
  },
  {
   "cell_type": "markdown",
   "metadata": {},
   "source": [
    "**Cannabis and LSD**"
   ]
  },
  {
   "cell_type": "code",
   "execution_count": 30,
   "metadata": {},
   "outputs": [
    {
     "name": "stdout",
     "output_type": "stream",
     "text": [
      "% of LSD users who have consumed marijuana=  98.16200042744177\n",
      "% of marijuana users who have consumed LSD  =  19.11997335775539\n",
      "No of people who have done marijuana =  24022\n",
      "No of people who have done LSD =  4679\n"
     ]
    }
   ],
   "source": [
    "data_lsd_weed=drug.LSD[(drug['MJAGE'] >= 0) & (drug['MJAGE'] <= 100) & (drug['LSD'] == 1)]\n",
    "data_lsd_only=drug.LSD[(drug['LSD'] == 1)]\n",
    "\n",
    "print(\"% of LSD users who have consumed marijuana= \",(len(data_lsd_weed)/len(data_lsd_only))*100)#98.1% of LSD users have consumed marijunana \n",
    "\n",
    "data_weed_lsd=drug.MJAGE[(drug['MJAGE'] >= 0) & (drug['MJAGE'] <= 100) & (drug['LSD'] == 1)]\n",
    "print(\"% of marijuana users who have consumed LSD  = \",(len(data_lsd_weed)/len(data_weed_only))*100)#4.15% of weed users have consumed LSD \n",
    "\n",
    "print(\"No of people who have done marijuana = \",len(data_weed_only))\n",
    "print(\"No of people who have done LSD = \",len(data_lsd_only))"
   ]
  },
  {
   "cell_type": "markdown",
   "metadata": {},
   "source": [
    "**Cannabis and alcohol**"
   ]
  },
  {
   "cell_type": "code",
   "execution_count": 31,
   "metadata": {
    "scrolled": true
   },
   "outputs": [
    {
     "name": "stdout",
     "output_type": "stream",
     "text": [
      "% of alcohol users who have consumed weed=  57.34191575416791\n",
      "% of marijuana users who have consumed Alcohol  =  96.79044209474648\n",
      "No of people who have done marijuana =  24022\n",
      "No of people who have done Alcohol =  40548\n"
     ]
    }
   ],
   "source": [
    "data_alc_weed=drug.ALCEVER[(drug['MJAGE'] >= 0) & (drug['MJAGE'] <= 100) & (drug['ALCEVER'] == 1)]\n",
    "data_alc_only=drug.ALCEVER[(drug['ALCEVER'] == 1)]\n",
    "\n",
    "print(\"% of alcohol users who have consumed weed= \",(len(data_alc_weed)/len(data_alc_only))*100)#57.3% of alcohol users have consumed weed \n",
    "\n",
    "data_weed_alc=drug.MJAGE[(drug['MJAGE'] >= 0) & (drug['MJAGE'] <= 100) & (drug['ALCEVER'] == 1)]\n",
    "print(\"% of marijuana users who have consumed Alcohol  = \",(len(data_alc_weed)/len(data_weed_only))*100)#96.1% of weed users have consumed alcohol \n",
    "#Only 27% of weed users have done coke. \n",
    "print(\"No of people who have done marijuana = \",len(data_weed_only))\n",
    "print(\"No of people who have done Alcohol = \",len(data_alc_only))"
   ]
  },
  {
   "cell_type": "code",
   "execution_count": 32,
   "metadata": {},
   "outputs": [
    {
     "data": {
      "image/png": "[encoded data removed]",
      "text/plain": [
       "<Figure size 432x288 with 1 Axes>"
      ]
     },
     "metadata": {
      "needs_background": "light"
     },
     "output_type": "display_data"
    }
   ],
   "source": [
    "import survival\n",
    "\n",
    "def MakeSurvivalFromCdf(cdf, label=''):\n",
    "    \"\"\"Makes a survival function based on a CDF.\n",
    "\n",
    "    cdf: Cdf\n",
    "    \n",
    "    returns: SurvivalFunction\n",
    "    \"\"\"\n",
    "    ts = cdf.xs\n",
    "    ss = 1 - cdf.ps\n",
    "    return survival.SurvivalFunction(ts, ss, label)\n",
    "coke_weed_survival=MakeSurvivalFromCdf(cdf_coke_weed,label='coke survival curve')\n",
    "coke_only_survival=MakeSurvivalFromCdf(cdf_coke_only,label='coke survival curve')\n",
    "thinkplot.Plot(coke_weed_survival)\n",
    "thinkplot.Plot(coke_only_survival)"
   ]
  },
  {
   "cell_type": "code",
   "execution_count": 33,
   "metadata": {},
   "outputs": [],
   "source": [
    "from __future__ import print_function, division\n",
    "\n",
    "%matplotlib inline\n",
    "\n",
    "import warnings\n",
    "warnings.filterwarnings('ignore', category=FutureWarning)\n",
    "\n",
    "import numpy as np\n",
    "import pandas as pd\n",
    "\n",
    "import random\n",
    "\n",
    "import thinkstats2\n",
    "import thinkplot"
   ]
  },
  {
   "cell_type": "code",
   "execution_count": null,
   "metadata": {},
   "outputs": [],
   "source": []
  },
  {
   "cell_type": "code",
   "execution_count": null,
   "metadata": {},
   "outputs": [],
   "source": []
  }
 ],
 "metadata": {
  "kernelspec": {
   "display_name": "Python 3",
   "language": "python",
   "name": "python3"
  },
  "language_info": {
   "codemirror_mode": {
    "name": "ipython",
    "version": 3
   },
   "file_extension": ".py",
   "mimetype": "text/x-python",
   "name": "python",
   "nbconvert_exporter": "python",
   "pygments_lexer": "ipython3",
   "version": "3.7.1"
  }
 },
 "nbformat": 4,
 "nbformat_minor": 2
}
