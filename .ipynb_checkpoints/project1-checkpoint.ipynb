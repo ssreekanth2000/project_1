{
 "cells": [
  {
   "cell_type": "markdown",
   "metadata": {},
   "source": [
    "**Proposal**"
   ]
  },
  {
   "cell_type": "markdown",
   "metadata": {},
   "source": [
    "\n",
    "**Effects of Marijuana legalization on drug use**\n",
    "by Sajjala Sreekanth Reddy\n",
    "\n",
    "I am planning to use the NSDUH dataset. It is all ready and can be used immediatly.\n",
    "\n",
    "The main ethical issues associated with the project is the issue of illegal narcotics involved. I must be very careful in order to not project\n",
    "marijuana as something that should be encouraged. I shall stress on the point that it is still a federal crime to use these\n",
    "substances with out a valid prescription. \n",
    "\n",
    "\n",
    "The **questions** I am looking to explore with this project are \n",
    "\n",
    "Does this data support the assertion that marijuna is a gateway drug?\n",
    "\n",
    "\n",
    "Which drugs show the most correlation with marijuana use?\n",
    "\n",
    "\n",
    "Correlation between alcohol(another legal substance) consumption and legalization of marijuna?\n",
    "\n",
    "\n",
    "Change in usage of marijuana after legalization?\n",
    "\n"
   ]
  },
  {
   "cell_type": "code",
   "execution_count": 8,
   "metadata": {},
   "outputs": [],
   "source": [
    "%matplotlib inline\n",
    "\n",
    "import pandas as pd\n",
    "import numpy as np\n",
    "\n",
    "import matplotlib.pyplot as plt\n",
    "import seaborn as sns\n",
    "sns.set(style='white')\n",
    "\n",
    "from thinkstats2 import Pmf, Cdf, Hist\n",
    "\n",
    "import thinkstats2\n",
    "import thinkplot\n",
    "from scipy.stats import linregress"
   ]
  },
  {
   "cell_type": "code",
   "execution_count": 9,
   "metadata": {},
   "outputs": [],
   "source": [
    "def CohenEffectSize(group1, group2):\n",
    "    \"\"\"Computes Cohen's effect size for two groups.\n",
    "    \n",
    "    group1: Series or DataFrame\n",
    "    group2: Series or DataFrame\n",
    "    \n",
    "    returns: float if the arguments are Series;\n",
    "             Series if the arguments are DataFrames\n",
    "    \"\"\"\n",
    "    diff = group1.mean() - group2.mean()\n",
    "\n",
    "    var1 = group1.var()\n",
    "    var2 = group2.var()\n",
    "    n1, n2 = len(group1), len(group2)\n",
    "\n",
    "    pooled_var = (n1 * var1 + n2 * var2) / (n1 + n2)\n",
    "    d = diff / np.sqrt(pooled_var)\n",
    "    return d"
   ]
  },
  {
   "cell_type": "raw",
   "metadata": {},
   "source": [
    "Import dataset"
   ]
  },
  {
   "cell_type": "code",
   "execution_count": 10,
   "metadata": {},
   "outputs": [
    {
     "name": "stderr",
     "output_type": "stream",
     "text": [
      "<string>:2: DtypeWarning: Columns (2502) have mixed types. Specify dtype option on import or set low_memory=False.\n"
     ]
    },
    {
     "name": "stdout",
     "output_type": "stream",
     "text": [
      "CPU times: user 10.8 s, sys: 244 ms, total: 11.1 s\n",
      "Wall time: 11.1 s\n"
     ]
    }
   ],
   "source": [
    "%time drug = pd.read_csv('/home/ssajjala/NSDUH_2017.txt', sep='\\t', header=0)"
   ]
  },
  {
   "cell_type": "code",
   "execution_count": 11,
   "metadata": {},
   "outputs": [
    {
     "data": {
      "text/plain": [
       "(56276, 2668)"
      ]
     },
     "execution_count": 11,
     "metadata": {},
     "output_type": "execute_result"
    }
   ],
   "source": [
    "drug.shape"
   ]
  },
  {
   "cell_type": "markdown",
   "metadata": {},
   "source": [
    "Look at the dataset in more detail"
   ]
  },
  {
   "cell_type": "code",
   "execution_count": 12,
   "metadata": {},
   "outputs": [
    {
     "name": "stdout",
     "output_type": "stream",
     "text": [
      "CPU times: user 8 s, sys: 96 ms, total: 8.09 s\n",
      "Wall time: 8.09 s\n"
     ]
    },
    {
     "data": {
      "text/html": [
       "<div>\n",
       "<style scoped>\n",
       "    .dataframe tbody tr th:only-of-type {\n",
       "        vertical-align: middle;\n",
       "    }\n",
       "\n",
       "    .dataframe tbody tr th {\n",
       "        vertical-align: top;\n",
       "    }\n",
       "\n",
       "    .dataframe thead th {\n",
       "        text-align: right;\n",
       "    }\n",
       "</style>\n",
       "<table border=\"1\" class=\"dataframe\">\n",
       "  <thead>\n",
       "    <tr style=\"text-align: right;\">\n",
       "      <th></th>\n",
       "      <th>QUESTID2</th>\n",
       "      <th>CIGEVER</th>\n",
       "      <th>CIGOFRSM</th>\n",
       "      <th>CIGWILYR</th>\n",
       "      <th>CIGTRY</th>\n",
       "      <th>CIGYFU</th>\n",
       "      <th>CIGMFU</th>\n",
       "      <th>CIGREC</th>\n",
       "      <th>CIG30USE</th>\n",
       "      <th>CG30EST</th>\n",
       "      <th>...</th>\n",
       "      <th>POVERTY3</th>\n",
       "      <th>TOOLONG</th>\n",
       "      <th>TROUBUND</th>\n",
       "      <th>PDEN10</th>\n",
       "      <th>COUTYP4</th>\n",
       "      <th>MAIIN102</th>\n",
       "      <th>AIIND102</th>\n",
       "      <th>ANALWT_C</th>\n",
       "      <th>VESTR</th>\n",
       "      <th>VEREP</th>\n",
       "    </tr>\n",
       "  </thead>\n",
       "  <tbody>\n",
       "    <tr>\n",
       "      <th>count</th>\n",
       "      <td>5.627600e+04</td>\n",
       "      <td>56276.000000</td>\n",
       "      <td>56276.000000</td>\n",
       "      <td>56276.000000</td>\n",
       "      <td>56276.000000</td>\n",
       "      <td>56276.000000</td>\n",
       "      <td>56276.000000</td>\n",
       "      <td>56276.000000</td>\n",
       "      <td>56276.000000</td>\n",
       "      <td>56276.000000</td>\n",
       "      <td>...</td>\n",
       "      <td>55891.000000</td>\n",
       "      <td>56276.000000</td>\n",
       "      <td>56276.000000</td>\n",
       "      <td>56276.000000</td>\n",
       "      <td>56276.000000</td>\n",
       "      <td>56276.000000</td>\n",
       "      <td>56276.000000</td>\n",
       "      <td>56276.000000</td>\n",
       "      <td>56276.000000</td>\n",
       "      <td>56276.000000</td>\n",
       "    </tr>\n",
       "    <tr>\n",
       "      <th>mean</th>\n",
       "      <td>5.440679e+07</td>\n",
       "      <td>1.514802</td>\n",
       "      <td>78.576889</td>\n",
       "      <td>78.590643</td>\n",
       "      <td>523.781452</td>\n",
       "      <td>9819.480329</td>\n",
       "      <td>92.930059</td>\n",
       "      <td>48.179330</td>\n",
       "      <td>78.938180</td>\n",
       "      <td>92.925972</td>\n",
       "      <td>...</td>\n",
       "      <td>2.404681</td>\n",
       "      <td>2.196549</td>\n",
       "      <td>2.219116</td>\n",
       "      <td>1.662627</td>\n",
       "      <td>1.756486</td>\n",
       "      <td>1.982213</td>\n",
       "      <td>1.982142</td>\n",
       "      <td>4835.157707</td>\n",
       "      <td>40025.520328</td>\n",
       "      <td>1.498809</td>\n",
       "    </tr>\n",
       "    <tr>\n",
       "      <th>std</th>\n",
       "      <td>2.559656e+07</td>\n",
       "      <td>0.499785</td>\n",
       "      <td>39.070097</td>\n",
       "      <td>39.050601</td>\n",
       "      <td>487.140097</td>\n",
       "      <td>1169.378109</td>\n",
       "      <td>13.028272</td>\n",
       "      <td>44.135195</td>\n",
       "      <td>27.744209</td>\n",
       "      <td>4.503609</td>\n",
       "      <td>...</td>\n",
       "      <td>0.785161</td>\n",
       "      <td>5.024707</td>\n",
       "      <td>5.021526</td>\n",
       "      <td>0.626196</td>\n",
       "      <td>0.768816</td>\n",
       "      <td>0.132179</td>\n",
       "      <td>0.132438</td>\n",
       "      <td>5829.196327</td>\n",
       "      <td>14.452923</td>\n",
       "      <td>0.500003</td>\n",
       "    </tr>\n",
       "    <tr>\n",
       "      <th>min</th>\n",
       "      <td>1.000602e+07</td>\n",
       "      <td>1.000000</td>\n",
       "      <td>1.000000</td>\n",
       "      <td>1.000000</td>\n",
       "      <td>1.000000</td>\n",
       "      <td>2015.000000</td>\n",
       "      <td>1.000000</td>\n",
       "      <td>1.000000</td>\n",
       "      <td>1.000000</td>\n",
       "      <td>1.000000</td>\n",
       "      <td>...</td>\n",
       "      <td>1.000000</td>\n",
       "      <td>1.000000</td>\n",
       "      <td>1.000000</td>\n",
       "      <td>1.000000</td>\n",
       "      <td>1.000000</td>\n",
       "      <td>1.000000</td>\n",
       "      <td>1.000000</td>\n",
       "      <td>1.038745</td>\n",
       "      <td>40001.000000</td>\n",
       "      <td>1.000000</td>\n",
       "    </tr>\n",
       "    <tr>\n",
       "      <th>25%</th>\n",
       "      <td>3.195035e+07</td>\n",
       "      <td>1.000000</td>\n",
       "      <td>99.000000</td>\n",
       "      <td>99.000000</td>\n",
       "      <td>16.000000</td>\n",
       "      <td>9991.000000</td>\n",
       "      <td>91.000000</td>\n",
       "      <td>3.000000</td>\n",
       "      <td>91.000000</td>\n",
       "      <td>91.000000</td>\n",
       "      <td>...</td>\n",
       "      <td>2.000000</td>\n",
       "      <td>2.000000</td>\n",
       "      <td>2.000000</td>\n",
       "      <td>1.000000</td>\n",
       "      <td>1.000000</td>\n",
       "      <td>2.000000</td>\n",
       "      <td>2.000000</td>\n",
       "      <td>1281.927192</td>\n",
       "      <td>40013.000000</td>\n",
       "      <td>1.000000</td>\n",
       "    </tr>\n",
       "    <tr>\n",
       "      <th>50%</th>\n",
       "      <td>5.430442e+07</td>\n",
       "      <td>2.000000</td>\n",
       "      <td>99.000000</td>\n",
       "      <td>99.000000</td>\n",
       "      <td>991.000000</td>\n",
       "      <td>9991.000000</td>\n",
       "      <td>91.000000</td>\n",
       "      <td>91.000000</td>\n",
       "      <td>91.000000</td>\n",
       "      <td>91.000000</td>\n",
       "      <td>...</td>\n",
       "      <td>3.000000</td>\n",
       "      <td>2.000000</td>\n",
       "      <td>2.000000</td>\n",
       "      <td>2.000000</td>\n",
       "      <td>2.000000</td>\n",
       "      <td>2.000000</td>\n",
       "      <td>2.000000</td>\n",
       "      <td>2828.875079</td>\n",
       "      <td>40025.000000</td>\n",
       "      <td>1.000000</td>\n",
       "    </tr>\n",
       "    <tr>\n",
       "      <th>75%</th>\n",
       "      <td>7.617612e+07</td>\n",
       "      <td>2.000000</td>\n",
       "      <td>99.000000</td>\n",
       "      <td>99.000000</td>\n",
       "      <td>991.000000</td>\n",
       "      <td>9999.000000</td>\n",
       "      <td>99.000000</td>\n",
       "      <td>91.000000</td>\n",
       "      <td>93.000000</td>\n",
       "      <td>93.000000</td>\n",
       "      <td>...</td>\n",
       "      <td>3.000000</td>\n",
       "      <td>2.000000</td>\n",
       "      <td>2.000000</td>\n",
       "      <td>2.000000</td>\n",
       "      <td>2.000000</td>\n",
       "      <td>2.000000</td>\n",
       "      <td>2.000000</td>\n",
       "      <td>6015.664108</td>\n",
       "      <td>40038.000000</td>\n",
       "      <td>2.000000</td>\n",
       "    </tr>\n",
       "    <tr>\n",
       "      <th>max</th>\n",
       "      <td>9.999816e+07</td>\n",
       "      <td>2.000000</td>\n",
       "      <td>99.000000</td>\n",
       "      <td>99.000000</td>\n",
       "      <td>997.000000</td>\n",
       "      <td>9999.000000</td>\n",
       "      <td>99.000000</td>\n",
       "      <td>91.000000</td>\n",
       "      <td>98.000000</td>\n",
       "      <td>99.000000</td>\n",
       "      <td>...</td>\n",
       "      <td>3.000000</td>\n",
       "      <td>98.000000</td>\n",
       "      <td>98.000000</td>\n",
       "      <td>3.000000</td>\n",
       "      <td>3.000000</td>\n",
       "      <td>2.000000</td>\n",
       "      <td>2.000000</td>\n",
       "      <td>90053.310988</td>\n",
       "      <td>40050.000000</td>\n",
       "      <td>2.000000</td>\n",
       "    </tr>\n",
       "  </tbody>\n",
       "</table>\n",
       "<p>8 rows × 2666 columns</p>\n",
       "</div>"
      ],
      "text/plain": [
       "           QUESTID2       CIGEVER      CIGOFRSM      CIGWILYR        CIGTRY  \\\n",
       "count  5.627600e+04  56276.000000  56276.000000  56276.000000  56276.000000   \n",
       "mean   5.440679e+07      1.514802     78.576889     78.590643    523.781452   \n",
       "std    2.559656e+07      0.499785     39.070097     39.050601    487.140097   \n",
       "min    1.000602e+07      1.000000      1.000000      1.000000      1.000000   \n",
       "25%    3.195035e+07      1.000000     99.000000     99.000000     16.000000   \n",
       "50%    5.430442e+07      2.000000     99.000000     99.000000    991.000000   \n",
       "75%    7.617612e+07      2.000000     99.000000     99.000000    991.000000   \n",
       "max    9.999816e+07      2.000000     99.000000     99.000000    997.000000   \n",
       "\n",
       "             CIGYFU        CIGMFU        CIGREC      CIG30USE       CG30EST  \\\n",
       "count  56276.000000  56276.000000  56276.000000  56276.000000  56276.000000   \n",
       "mean    9819.480329     92.930059     48.179330     78.938180     92.925972   \n",
       "std     1169.378109     13.028272     44.135195     27.744209      4.503609   \n",
       "min     2015.000000      1.000000      1.000000      1.000000      1.000000   \n",
       "25%     9991.000000     91.000000      3.000000     91.000000     91.000000   \n",
       "50%     9991.000000     91.000000     91.000000     91.000000     91.000000   \n",
       "75%     9999.000000     99.000000     91.000000     93.000000     93.000000   \n",
       "max     9999.000000     99.000000     91.000000     98.000000     99.000000   \n",
       "\n",
       "           ...           POVERTY3       TOOLONG      TROUBUND        PDEN10  \\\n",
       "count      ...       55891.000000  56276.000000  56276.000000  56276.000000   \n",
       "mean       ...           2.404681      2.196549      2.219116      1.662627   \n",
       "std        ...           0.785161      5.024707      5.021526      0.626196   \n",
       "min        ...           1.000000      1.000000      1.000000      1.000000   \n",
       "25%        ...           2.000000      2.000000      2.000000      1.000000   \n",
       "50%        ...           3.000000      2.000000      2.000000      2.000000   \n",
       "75%        ...           3.000000      2.000000      2.000000      2.000000   \n",
       "max        ...           3.000000     98.000000     98.000000      3.000000   \n",
       "\n",
       "            COUTYP4      MAIIN102      AIIND102      ANALWT_C         VESTR  \\\n",
       "count  56276.000000  56276.000000  56276.000000  56276.000000  56276.000000   \n",
       "mean       1.756486      1.982213      1.982142   4835.157707  40025.520328   \n",
       "std        0.768816      0.132179      0.132438   5829.196327     14.452923   \n",
       "min        1.000000      1.000000      1.000000      1.038745  40001.000000   \n",
       "25%        1.000000      2.000000      2.000000   1281.927192  40013.000000   \n",
       "50%        2.000000      2.000000      2.000000   2828.875079  40025.000000   \n",
       "75%        2.000000      2.000000      2.000000   6015.664108  40038.000000   \n",
       "max        3.000000      2.000000      2.000000  90053.310988  40050.000000   \n",
       "\n",
       "              VEREP  \n",
       "count  56276.000000  \n",
       "mean       1.498809  \n",
       "std        0.500003  \n",
       "min        1.000000  \n",
       "25%        1.000000  \n",
       "50%        1.000000  \n",
       "75%        2.000000  \n",
       "max        2.000000  \n",
       "\n",
       "[8 rows x 2666 columns]"
      ]
     },
     "execution_count": 12,
     "metadata": {},
     "output_type": "execute_result"
    }
   ],
   "source": [
    "%time drug.describe()"
   ]
  },
  {
   "cell_type": "markdown",
   "metadata": {},
   "source": [
    "Lets look at the histogram of the ages at which people have first done weed"
   ]
  },
  {
   "cell_type": "markdown",
   "metadata": {},
   "source": [
    "It's pretty clear that most users have first tried weed between the ages of 10 and 25"
   ]
  },
  {
   "cell_type": "code",
   "execution_count": 13,
   "metadata": {},
   "outputs": [
    {
     "name": "stderr",
     "output_type": "stream",
     "text": [
      "No handles with labels found to put in legend.\n"
     ]
    },
    {
     "data": {
      "image/png": "[encoded data removed]",
      "text/plain": [
       "<Figure size 432x288 with 1 Axes>"
      ]
     },
     "metadata": {},
     "output_type": "display_data"
    }
   ],
   "source": [
    "data_weed_only=drug.MJAGE[(drug['MJAGE'] >= 0) & (drug['MJAGE'] <= 100)]\n",
    "hist= thinkstats2.Hist(data_weed_only)\n",
    "thinkplot.hist(hist)\n",
    "thinkplot.Config(xlabel='Age at first tried marijuana', ylabel='No. of people', title='Histogram of ages at which weed was first tried')"
   ]
  },
  {
   "cell_type": "markdown",
   "metadata": {},
   "source": [
    "Exploring the idea of which drugs show most correlation with weed use. This is one of the main questions I wanted to explore. We will be looking the overlap in users between Weed and Cocaine, Alcohol, Heroine and LSD"
   ]
  },
  {
   "cell_type": "markdown",
   "metadata": {},
   "source": [
    "Coke and weed use"
   ]
  },
  {
   "cell_type": "code",
   "execution_count": 14,
   "metadata": {},
   "outputs": [
    {
     "name": "stdout",
     "output_type": "stream",
     "text": [
      "% of coke users who have consumed marijuana=  97.53891771682729\n",
      "% of marijuana users who have consumed coke  =  27.38739488801932\n",
      "No of people who have done marijuana =  24022\n",
      "No of people who have done coke =  6745\n"
     ]
    }
   ],
   "source": [
    "data_coke_weed=drug.COCEVER[(drug['MJAGE'] >= 0) & (drug['MJAGE'] <= 100) & (drug['COCEVER'] == 1)]\n",
    "data_coke_only=drug.COCEVER[(drug['COCEVER'] == 1)]\n",
    "\n",
    "print(\"% of coke users who have consumed marijuana= \",(len(data_coke_weed)/len(data_coke_only))*100)#97.5% of coke users have consumed marijunana in the past\n",
    "\n",
    "data_weed_coke=drug.MJAGE[(drug['MJAGE'] >= 0) & (drug['MJAGE'] <= 100) & (drug['COCEVER'] == 1)]\n",
    "print(\"% of marijuana users who have consumed coke  = \",(len(data_weed_coke)/len(data_weed_only))*100)#Only 27% of weed users have done coke. \n",
    "\n",
    "print(\"No of people who have done marijuana = \",len(data_weed_only))\n",
    "print(\"No of people who have done coke = \",len(data_coke_only))\n",
    "#did both\n"
   ]
  },
  {
   "cell_type": "markdown",
   "metadata": {},
   "source": [
    "Coke and heroine"
   ]
  },
  {
   "cell_type": "code",
   "execution_count": 15,
   "metadata": {},
   "outputs": [
    {
     "name": "stdout",
     "output_type": "stream",
     "text": [
      "% of heroine users who have consumed marijuana=  96.98736637512148\n",
      "% of marijuana users who have consumed heroine  =  4.154525018732828\n",
      "No of people who have done marijuana =  24022\n",
      "No of people who have done heroine =  1029\n"
     ]
    }
   ],
   "source": [
    "data_her_weed=drug.HEREVER[(drug['MJAGE'] >= 0) & (drug['MJAGE'] <= 100) & (drug['HEREVER'] == 1)]\n",
    "data_her_only=drug.HEREVER[(drug['HEREVER'] == 1)]\n",
    "\n",
    "print(\"% of heroine users who have consumed marijuana= \",(len(data_her_weed)/len(data_her_only))*100)#96.7% of Heroine users have consumed marijunana\n",
    "\n",
    "data_weed_her=drug.MJAGE[(drug['MJAGE'] >= 0) & (drug['MJAGE'] <= 100) & (drug['HEREVER'] == 1)]\n",
    "print(\"% of marijuana users who have consumed heroine  = \",(len(data_her_weed)/len(data_weed_only))*100)#4.15% of weed users have consumed heroine\n",
    "\n",
    "print(\"No of people who have done marijuana = \",len(data_weed_only))\n",
    "print(\"No of people who have done heroine = \",len(data_her_only))"
   ]
  },
  {
   "cell_type": "markdown",
   "metadata": {},
   "source": [
    "Weed and LSD"
   ]
  },
  {
   "cell_type": "code",
   "execution_count": 16,
   "metadata": {},
   "outputs": [
    {
     "name": "stdout",
     "output_type": "stream",
     "text": [
      "% of LSD users who have consumed marijuana=  98.16200042744177\n",
      "% of marijuana users who have consumed LSD  =  19.11997335775539\n",
      "No of people who have done marijuana =  24022\n",
      "No of people who have done LSD =  4679\n"
     ]
    }
   ],
   "source": [
    "data_lsd_weed=drug.LSD[(drug['MJAGE'] >= 0) & (drug['MJAGE'] <= 100) & (drug['LSD'] == 1)]\n",
    "data_lsd_only=drug.LSD[(drug['LSD'] == 1)]\n",
    "\n",
    "print(\"% of LSD users who have consumed marijuana= \",(len(data_lsd_weed)/len(data_lsd_only))*100)#98.1% of LSD users have consumed marijunana \n",
    "\n",
    "data_weed_lsd=drug.MJAGE[(drug['MJAGE'] >= 0) & (drug['MJAGE'] <= 100) & (drug['LSD'] == 1)]\n",
    "print(\"% of marijuana users who have consumed LSD  = \",(len(data_lsd_weed)/len(data_weed_only))*100)#4.15% of weed users have consumed LSD \n",
    "\n",
    "print(\"No of people who have done marijuana = \",len(data_weed_only))\n",
    "print(\"No of people who have done LSD = \",len(data_lsd_only))"
   ]
  },
  {
   "cell_type": "markdown",
   "metadata": {},
   "source": [
    "ALcohol and weed"
   ]
  },
  {
   "cell_type": "code",
   "execution_count": 17,
   "metadata": {},
   "outputs": [
    {
     "name": "stdout",
     "output_type": "stream",
     "text": [
      "% of alcohol users who have consumed weed=  57.34191575416791\n",
      "% of marijuana users who have consumed Alcohol  =  96.79044209474648\n",
      "No of people who have done marijuana =  24022\n",
      "No of people who have done Alcohol =  40548\n"
     ]
    }
   ],
   "source": [
    "data_alc_weed=drug.ALCEVER[(drug['MJAGE'] >= 0) & (drug['MJAGE'] <= 100) & (drug['ALCEVER'] == 1)]\n",
    "data_alc_only=drug.ALCEVER[(drug['ALCEVER'] == 1)]\n",
    "\n",
    "print(\"% of alcohol users who have consumed weed= \",(len(data_alc_weed)/len(data_alc_only))*100)#57.3% of alcohol users have consumed weed \n",
    "\n",
    "data_weed_alc=drug.MJAGE[(drug['MJAGE'] >= 0) & (drug['MJAGE'] <= 100) & (drug['ALCEVER'] == 1)]\n",
    "print(\"% of marijuana users who have consumed Alcohol  = \",(len(data_alc_weed)/len(data_weed_only))*100)#96.1% of weed users have consumed alcohol \n",
    "#Only 27% of weed users have done coke. \n",
    "print(\"No of people who have done marijuana = \",len(data_weed_only))\n",
    "print(\"No of people who have done Alcohol = \",len(data_alc_only))"
   ]
  },
  {
   "cell_type": "markdown",
   "metadata": {},
   "source": [
    "Now we shall explore the second question. Is weed a gateway drug? I feel there is no single way to test this hypothesis, so instead we shall explore various trends related to the age at which various drugs were used with conjunction to weed"
   ]
  },
  {
   "cell_type": "markdown",
   "metadata": {},
   "source": [
    "Histograms to indicate ages at which different drugs were tried"
   ]
  },
  {
   "cell_type": "code",
   "execution_count": 18,
   "metadata": {},
   "outputs": [
    {
     "ename": "NameError",
     "evalue": "name 'data_weed_only_age' is not defined",
     "output_type": "error",
     "traceback": [
      "\u001b[0;31m---------------------------------------------------------------------------\u001b[0m",
      "\u001b[0;31mNameError\u001b[0m                                 Traceback (most recent call last)",
      "\u001b[0;32m<ipython-input-18-6c208ee46788>\u001b[0m in \u001b[0;36m<module>\u001b[0;34m\u001b[0m\n\u001b[0;32m----> 1\u001b[0;31m \u001b[0mhist_weed\u001b[0m\u001b[0;34m=\u001b[0m\u001b[0mthinkstats2\u001b[0m\u001b[0;34m.\u001b[0m\u001b[0mHist\u001b[0m\u001b[0;34m(\u001b[0m\u001b[0mdata_weed_only_age\u001b[0m\u001b[0;34m)\u001b[0m\u001b[0;34m\u001b[0m\u001b[0;34m\u001b[0m\u001b[0m\n\u001b[0m\u001b[1;32m      2\u001b[0m \u001b[0mthinkplot\u001b[0m\u001b[0;34m.\u001b[0m\u001b[0mhist\u001b[0m\u001b[0;34m(\u001b[0m\u001b[0mhist_weed\u001b[0m\u001b[0;34m)\u001b[0m\u001b[0;34m\u001b[0m\u001b[0;34m\u001b[0m\u001b[0m\n\u001b[1;32m      3\u001b[0m \u001b[0mthinkplot\u001b[0m\u001b[0;34m.\u001b[0m\u001b[0mConfig\u001b[0m\u001b[0;34m(\u001b[0m\u001b[0mxlabel\u001b[0m\u001b[0;34m=\u001b[0m\u001b[0;34m'Age at first tried marijuana'\u001b[0m\u001b[0;34m,\u001b[0m \u001b[0mylabel\u001b[0m\u001b[0;34m=\u001b[0m\u001b[0;34m'No. of people'\u001b[0m\u001b[0;34m,\u001b[0m \u001b[0mtitle\u001b[0m\u001b[0;34m=\u001b[0m\u001b[0;34m'Histogram of ages at which weed was first tried'\u001b[0m\u001b[0;34m)\u001b[0m\u001b[0;34m\u001b[0m\u001b[0;34m\u001b[0m\u001b[0m\n",
      "\u001b[0;31mNameError\u001b[0m: name 'data_weed_only_age' is not defined"
     ]
    }
   ],
   "source": [
    "hist_weed=thinkstats2.Hist(data_weed_only_age)\n",
    "thinkplot.hist(hist_weed)\n",
    "thinkplot.Config(xlabel='Age at first tried marijuana', ylabel='No. of people', title='Histogram of ages at which weed was first tried')"
   ]
  },
  {
   "cell_type": "code",
   "execution_count": null,
   "metadata": {},
   "outputs": [],
   "source": [
    "hist_alc=thinkstats2.Hist(data_alc_only_age)\n",
    "thinkplot.hist(hist_alc)\n",
    "thinkplot.Config(xlabel='Age at first tried Alcohol', ylabel='No. of people', title='Histogram of ages at which alcohol was first tried')"
   ]
  },
  {
   "cell_type": "code",
   "execution_count": null,
   "metadata": {},
   "outputs": [],
   "source": [
    "hist_coke=thinkstats2.Hist(data_coc_only_age)\n",
    "thinkplot.hist(hist_coke)\n",
    "thinkplot.Config(xlabel='Age at first tried coke', ylabel='No. of people', title='Histogram of ages at which coke was first tried')"
   ]
  },
  {
   "cell_type": "code",
   "execution_count": null,
   "metadata": {},
   "outputs": [],
   "source": [
    "data_alc_weed_age=drug.ALCTRY[(drug['MJEVER'] == 1) & (drug['ALCEVER'] == 1)&(drug['MJAGE'] >= 0) & (drug['MJAGE'] <= 100)&(drug['ALCTRY'] >= 0) & (drug['ALCTRY'] <= 100)]\n",
    "data_weed_alc_age=drug.MJAGE[(drug['ALCEVER'] == 1)& (drug['MJEVER'] == 1)&(drug['MJAGE'] >= 0) & (drug['MJAGE'] <= 100)&(drug['ALCTRY'] >= 0) & (drug['ALCTRY'] <= 100)]\n",
    "data_alc_only_age=drug.ALCTRY[(drug['ALCEVER'] == 1)&(drug['ALCTRY'] >= 0) & (drug['ALCTRY'] <= 100)&(drug['MJEVER'] == 2)]\n",
    "data_weed_only_age=drug.MJAGE[(drug['MJEVER'] == 1)&(drug['MJAGE'] >= 0) & (drug['MJAGE'] <= 100)]\n",
    "print(\"Age marijuana users have first tried alcohol\" , data_alc_weed_age.mean())\n",
    "\n",
    "print(\"Age Alcohol users have first tried marijuana\" , data_weed_alc_age.mean())\n",
    "print(\"Age Alcohol users(who have not done marijuana) have first tried alcohol\", data_alc_only_age.mean())\n",
    "print(\"Age marijuana users(who have not done alcohol) have first tried marijuana\" ,data_weed_only_age.mean())\n",
    "\n",
    "print(\"Cohen effect size between the age difference of people who have done only alcohol and people who have done both alcohol and marijuana=\",CohenEffectSize(data_weed_alc_age,data_alc_only_age))#Cohen effect size between people who have done only alc and those who \n",
    "#did both"
   ]
  },
  {
   "cell_type": "markdown",
   "metadata": {},
   "source": [
    "We can clearly see here that people who have done weed have tried alcohol before than those who didn't. On the other hand there is no major differnce in the age at which weed was used whether or not alcohol was consumed"
   ]
  },
  {
   "cell_type": "code",
   "execution_count": null,
   "metadata": {},
   "outputs": [],
   "source": [
    "import matplotlib.pyplot as plt\n",
    "\n",
    "\n",
    "plt.plot(data_weed_alc_age, data_alc_weed_age, 'o', markersize='2', alpha=0.2)\n",
    "plt.title('Scatter plot and regression between marijuana and alcohol use')\n",
    "plt.xlabel('Age of first weed use')\n",
    "plt.ylabel('Age of first alcohol use');\n",
    "\n",
    "xs = data_weed_alc_age.dropna()\n",
    "ys = data_alc_weed_age.dropna()\n",
    "\n",
    "res = linregress(xs, ys)\n",
    "res\n",
    "fx = np.array([xs.min(), xs.max()])\n",
    "fy = res.intercept + res.slope * fx\n",
    "plt.plot(fx, fy, '-', alpha=0.5)\n"
   ]
  },
  {
   "cell_type": "code",
   "execution_count": null,
   "metadata": {},
   "outputs": [],
   "source": [
    "data_coc_weed_age=drug.COCAGE[(drug['MJEVER'] == 1) & (drug['COCEVER'] == 1)&(drug['MJAGE'] >= 0) & (drug['MJAGE'] <= 100)&(drug['COCAGE'] >= 0) & (drug['COCAGE'] <= 60)]\n",
    "data_weed_coc_age=drug.MJAGE[(drug['COCEVER'] == 1)& (drug['MJEVER'] == 1)&(drug['MJAGE'] >= 0) & (drug['MJAGE'] <= 100)&(drug['COCAGE'] >= 0) & (drug['COCAGE'] <= 60)]\n",
    "data_coc_only_age=drug.COCAGE[(drug['COCEVER'] == 1)&(drug['COCAGE'] >= 0) & (drug['COCAGE'] <= 100)&(drug['MJEVER'] == 2)]\n",
    "data_weed_only_age=drug.MJAGE[(drug['MJEVER'] == 1)&(drug['MJAGE'] >= 0) & (drug['MJAGE'] <= 100)]\n",
    "print(\"Age marijuana users have first tried coke\" , data_coc_weed_age.mean())\n",
    "\n",
    "print(\"Age coke users have first tried marijuana\" , data_weed_coc_age.mean())\n",
    "print(\"Age coke users(who have not done marijuana) have first tried coke\", data_coc_only_age.mean())\n",
    "print(\"Age marijuana users(who have not done coke) have first tried marijuana\" ,data_weed_only_age.mean())\n",
    "print(\"Cohen effect size between the age difference of people who have done only cocaine and people who have done both cocaine and marijuana=\",CohenEffectSize(data_weed_coc_age,data_coc_only_age))#Cohen effect size between people who have done only coc and those who \n",
    "#did both"
   ]
  },
  {
   "cell_type": "markdown",
   "metadata": {},
   "source": [
    "We can see here that cocaine users who have used weed have started using coke almost two years earlier compared to those who haven't."
   ]
  },
  {
   "cell_type": "code",
   "execution_count": null,
   "metadata": {},
   "outputs": [],
   "source": [
    "import matplotlib.pyplot as plt\n",
    "\n",
    "\n",
    "plt.plot(data_weed_coc_age, data_coc_weed_age, 'o', markersize='2', alpha=0.2)\n",
    "\n",
    "plt.xlabel('Age of first marijuana use')\n",
    "plt.ylabel('Age of first Cocaine use');\n",
    "\n",
    "from scipy.stats import linregress\n",
    "\n",
    "plt.title('Scatter plot and regression between weed and cocaine use')\n",
    "\n",
    "xs = data_weed_coc_age.dropna()\n",
    "ys = data_coc_weed_age.dropna()\n",
    "\n",
    "res = linregress(xs, ys)\n",
    "res\n",
    "fx = np.array([xs.min(), xs.max()])\n",
    "fy = res.intercept + res.slope * fx\n",
    "plt.plot(fx, fy, '-', alpha=0.5)"
   ]
  },
  {
   "cell_type": "code",
   "execution_count": null,
   "metadata": {},
   "outputs": [],
   "source": [
    "data_her_weed_age=drug.HERAGE[(drug['MJEVER'] == 1) & (drug['HEREVER'] == 1)&(drug['MJAGE'] >= 0) & (drug['MJAGE'] <= 100)&(drug['HERAGE'] >= 0) & (drug['HERAGE'] <= 60)]\n",
    "data_weed_her_age=drug.MJAGE[(drug['HEREVER'] == 1)& (drug['MJEVER'] == 1)&(drug['MJAGE'] >= 0) & (drug['MJAGE'] <= 100)&(drug['HERAGE'] >= 0) & (drug['HERAGE'] <= 60)]\n",
    "data_her_only_age=drug.HERAGE[(drug['HEREVER'] == 1)&(drug['HERAGE'] >= 0) & (drug['HERAGE'] <= 100)&(drug['MJEVER'] == 2)]\n",
    "data_weed_only_age=drug.MJAGE[(drug['MJEVER'] == 1)&(drug['MJAGE'] >= 0) & (drug['MJAGE'] <= 100)]\n",
    "print(\"Age marijuana users have first tried heroine\" , data_her_weed_age.mean())\n",
    "\n",
    "print(\"Age heroine users have first tried marijuana\" , data_weed_her_age.mean())\n",
    "print(\"Age heroine users(who have not done marijuana) have first tried heroine\", data_her_only_age.mean())\n",
    "print(\"Age Weed users(who have not done heroine) have first tried marijuana\" ,data_weed_only_age.mean())\n",
    "print(\"Cohen effect size between the age difference of people who have done only heroine and people who have done both heroine and marijuana=\",CohenEffectSize(data_weed_her_age,data_her_only_age))#Cohen effect size between people who have done only heroine and those who \n",
    "#did both"
   ]
  },
  {
   "cell_type": "markdown",
   "metadata": {},
   "source": [
    "We can again see a significant difference in the age at which weed users do heroine compared to non weed users."
   ]
  },
  {
   "cell_type": "code",
   "execution_count": null,
   "metadata": {},
   "outputs": [],
   "source": [
    "import matplotlib.pyplot as plt\n",
    "\n",
    "\n",
    "plt.plot(data_weed_her_age, data_her_weed_age, 'o', markersize='2', alpha=0.2)\n",
    "plt.title('Scatter plot and regression between marijuana and heroine use')\n",
    "\n",
    "plt.xlabel('Age of first marijuana use')\n",
    "plt.ylabel('Age of first Heroine use');\n",
    "\n",
    "xs = data_weed_her_age.dropna()\n",
    "ys = data_her_weed_age.dropna()\n",
    "\n",
    "res = linregress(xs, ys)\n",
    "res\n",
    "fx = np.array([xs.min(), xs.max()])\n",
    "fy = res.intercept + res.slope * fx\n",
    "plt.plot(fx, fy, '-', alpha=0.5)"
   ]
  },
  {
   "cell_type": "code",
   "execution_count": null,
   "metadata": {},
   "outputs": [],
   "source": [
    "data_alc_age=drug.ALCTRY[(drug['ALCEVER'] == 1)&(drug['ALCTRY'] >= 0) & (drug['ALCTRY'] <= 100)]\n",
    "data_weed_age=drug.MJAGE[(drug['MJEVER'] == 1)&(drug['MJAGE'] >= 0) & (drug['MJAGE'] <=100)]\n",
    "data_her_age=drug.HERAGE[(drug['HEREVER'] == 1)&(drug['HERAGE'] >= 0) & (drug['HERAGE'] <= 100)]\n",
    "data_coc_age=drug.COCAGE[(drug['COCEVER'] == 1)&(drug['COCAGE'] >= 0) & (drug['COCAGE'] <= 100)]"
   ]
  },
  {
   "cell_type": "code",
   "execution_count": null,
   "metadata": {},
   "outputs": [],
   "source": [
    "thinkplot.PrePlot(4)\n",
    "cdf_alc = Cdf(data_alc_age)\n",
    "cdf_weed = Cdf(data_weed_age)\n",
    "cdf_her = Cdf(data_her_age)\n",
    "cdf_coke = Cdf(data_coc_age)\n",
    "\n",
    "thinkplot.cdf(cdf_alc, label='alcohol')\n",
    "thinkplot.cdf(cdf_weed, label='marijuana')\n",
    "thinkplot.cdf(cdf_her, label='heroine')\n",
    "thinkplot.cdf(cdf_coke, label='coke')\n",
    "#CDFs indicaging ages at which various drugs are tried.\n",
    "thinkplot.Config(xlabel='Age at first tried drug', ylabel='fraction of people', title='Histogram of ages at which weed was first tried')"
   ]
  },
  {
   "cell_type": "markdown",
   "metadata": {},
   "source": [
    "**CONCLUSIONS**"
   ]
  },
  {
   "cell_type": "markdown",
   "metadata": {},
   "source": [
    "There are clear differences in ages at which people who have not done marijuana and people who have done, start using each of other substances. We also see a clear pattern where correlation between marijuna use and other drugs is very strong. Both of these results suggest that marijuana might have acted as a gateway drug but we have no clear way to prove that.  This dataset helps us get data backed results for the first 2 questions outlined in the head of the document. "
   ]
  },
  {
   "cell_type": "code",
   "execution_count": null,
   "metadata": {},
   "outputs": [],
   "source": []
  }
 ],
 "metadata": {
  "kernelspec": {
   "display_name": "Python 3",
   "language": "python",
   "name": "python3"
  },
  "language_info": {
   "codemirror_mode": {
    "name": "ipython",
    "version": 3
   },
   "file_extension": ".py",
   "mimetype": "text/x-python",
   "name": "python",
   "nbconvert_exporter": "python",
   "pygments_lexer": "ipython3",
   "version": "3.7.1"
  }
 },
 "nbformat": 4,
 "nbformat_minor": 2
}
